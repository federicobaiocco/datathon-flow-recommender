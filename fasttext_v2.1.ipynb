{
 "cells": [
  {
   "cell_type": "markdown",
   "id": "760c7632",
   "metadata": {},
   "source": [
    "# Recomender V2.1\n",
    "\n",
    "El dataset se armará de la siguiente forma:\n",
    "\n",
    "Por cada usuario, tenemos una lista de content ids vistos. Para cada una de estas listas se arman las combinaciones de modo que tengamos una fila con cada id usado como label. Por ejemplo:\n",
    "\n",
    "Usuario A vio: 1,2,3,4.\n",
    "\n",
    "Dataset:\n",
    "\n",
    "2 3 4 __ label__1\n",
    "\n",
    "1 3 4 __ label__2\n",
    "\n",
    "1 2 4 __ label__3\n",
    "\n",
    "1 2 3 __ label__4\n",
    "\n",
    "Y asi por cada usuario.\n",
    "\n",
    "Para predecir, al modelo se le pasaría el listado de ids visto por el usuario y se aplicaría el mismo filtro y cold start que en V1.\n",
    "\n",
    "Esto es un **fix** de la v2.0: La lógica es la misma, pero al momento de generar predicciones, en la v2.0 se generaban duplicados en la lista. Además, las recomendaciones cold start no se estaban filtrando con la condicion que elimina lo que no estará disponible en abril."
   ]
  },
  {
   "cell_type": "code",
   "execution_count": 1,
   "id": "848bd19a",
   "metadata": {},
   "outputs": [],
   "source": [
    "from fasttext import load_model, train_supervised\n",
    "import pandas as pd\n",
    "import numpy as np\n",
    "from tqdm import tqdm\n",
    "from datetime import datetime"
   ]
  },
  {
   "cell_type": "code",
   "execution_count": 2,
   "id": "455b0184",
   "metadata": {},
   "outputs": [],
   "source": [
    "metadata = pd.read_csv(\"../../../data/metadata.csv\", delimiter=\";\", parse_dates=['create_date', 'modify_date', 'start_vod_date', 'end_vod_date'])\n",
    "train = pd.read_csv(\"../../../data/train.csv\", parse_dates=['tunein', 'tuneout'])"
   ]
  },
  {
   "cell_type": "code",
   "execution_count": 3,
   "id": "d9b117d2",
   "metadata": {},
   "outputs": [
    {
     "data": {
      "text/html": [
       "<div>\n",
       "<style scoped>\n",
       "    .dataframe tbody tr th:only-of-type {\n",
       "        vertical-align: middle;\n",
       "    }\n",
       "\n",
       "    .dataframe tbody tr th {\n",
       "        vertical-align: top;\n",
       "    }\n",
       "\n",
       "    .dataframe thead th {\n",
       "        text-align: right;\n",
       "    }\n",
       "</style>\n",
       "<table border=\"1\" class=\"dataframe\">\n",
       "  <thead>\n",
       "    <tr style=\"text-align: right;\">\n",
       "      <th></th>\n",
       "      <th>customer_id</th>\n",
       "      <th>account_id</th>\n",
       "      <th>device_type</th>\n",
       "      <th>asset_id</th>\n",
       "      <th>tunein</th>\n",
       "      <th>tuneout</th>\n",
       "      <th>resume</th>\n",
       "    </tr>\n",
       "  </thead>\n",
       "  <tbody>\n",
       "    <tr>\n",
       "      <th>0</th>\n",
       "      <td>0</td>\n",
       "      <td>90627</td>\n",
       "      <td>STATIONARY</td>\n",
       "      <td>18332.0</td>\n",
       "      <td>2021-02-18 22:52:00</td>\n",
       "      <td>2021-02-18 23:35:00</td>\n",
       "      <td>0</td>\n",
       "    </tr>\n",
       "    <tr>\n",
       "      <th>1</th>\n",
       "      <td>0</td>\n",
       "      <td>90627</td>\n",
       "      <td>STATIONARY</td>\n",
       "      <td>24727.0</td>\n",
       "      <td>2021-03-24 23:17:00</td>\n",
       "      <td>2021-03-25 00:01:00</td>\n",
       "      <td>0</td>\n",
       "    </tr>\n",
       "    <tr>\n",
       "      <th>2</th>\n",
       "      <td>1</td>\n",
       "      <td>3387</td>\n",
       "      <td>STB</td>\n",
       "      <td>895.0</td>\n",
       "      <td>2021-03-15 10:05:00</td>\n",
       "      <td>2021-03-15 10:23:00</td>\n",
       "      <td>0</td>\n",
       "    </tr>\n",
       "    <tr>\n",
       "      <th>3</th>\n",
       "      <td>1</td>\n",
       "      <td>3387</td>\n",
       "      <td>STB</td>\n",
       "      <td>895.0</td>\n",
       "      <td>2021-03-15 10:23:00</td>\n",
       "      <td>2021-03-15 11:18:00</td>\n",
       "      <td>1</td>\n",
       "    </tr>\n",
       "    <tr>\n",
       "      <th>4</th>\n",
       "      <td>1</td>\n",
       "      <td>3387</td>\n",
       "      <td>STB</td>\n",
       "      <td>26062.0</td>\n",
       "      <td>2021-03-16 09:24:00</td>\n",
       "      <td>2021-03-16 09:44:00</td>\n",
       "      <td>0</td>\n",
       "    </tr>\n",
       "  </tbody>\n",
       "</table>\n",
       "</div>"
      ],
      "text/plain": [
       "   customer_id  account_id device_type  asset_id              tunein  \\\n",
       "0            0       90627  STATIONARY   18332.0 2021-02-18 22:52:00   \n",
       "1            0       90627  STATIONARY   24727.0 2021-03-24 23:17:00   \n",
       "2            1        3387         STB     895.0 2021-03-15 10:05:00   \n",
       "3            1        3387         STB     895.0 2021-03-15 10:23:00   \n",
       "4            1        3387         STB   26062.0 2021-03-16 09:24:00   \n",
       "\n",
       "              tuneout  resume  \n",
       "0 2021-02-18 23:35:00       0  \n",
       "1 2021-03-25 00:01:00       0  \n",
       "2 2021-03-15 10:23:00       0  \n",
       "3 2021-03-15 11:18:00       1  \n",
       "4 2021-03-16 09:44:00       0  "
      ]
     },
     "execution_count": 3,
     "metadata": {},
     "output_type": "execute_result"
    }
   ],
   "source": [
    "train.head()"
   ]
  },
  {
   "cell_type": "code",
   "execution_count": 4,
   "id": "a3ceb1e2",
   "metadata": {},
   "outputs": [
    {
     "data": {
      "text/html": [
       "<div>\n",
       "<style scoped>\n",
       "    .dataframe tbody tr th:only-of-type {\n",
       "        vertical-align: middle;\n",
       "    }\n",
       "\n",
       "    .dataframe tbody tr th {\n",
       "        vertical-align: top;\n",
       "    }\n",
       "\n",
       "    .dataframe thead th {\n",
       "        text-align: right;\n",
       "    }\n",
       "</style>\n",
       "<table border=\"1\" class=\"dataframe\">\n",
       "  <thead>\n",
       "    <tr style=\"text-align: right;\">\n",
       "      <th></th>\n",
       "      <th>asset_id</th>\n",
       "      <th>content_id</th>\n",
       "      <th>title</th>\n",
       "      <th>reduced_title</th>\n",
       "      <th>episode_title</th>\n",
       "      <th>show_type</th>\n",
       "      <th>released_year</th>\n",
       "      <th>country_of_origin</th>\n",
       "      <th>category</th>\n",
       "      <th>keywords</th>\n",
       "      <th>...</th>\n",
       "      <th>language_rating</th>\n",
       "      <th>dialog_rating</th>\n",
       "      <th>fv_rating</th>\n",
       "      <th>pay_per_view</th>\n",
       "      <th>pack_premium_1</th>\n",
       "      <th>pack_premium_2</th>\n",
       "      <th>create_date</th>\n",
       "      <th>modify_date</th>\n",
       "      <th>start_vod_date</th>\n",
       "      <th>end_vod_date</th>\n",
       "    </tr>\n",
       "  </thead>\n",
       "  <tbody>\n",
       "    <tr>\n",
       "      <th>0</th>\n",
       "      <td>15188</td>\n",
       "      <td>0.0</td>\n",
       "      <td>Ep:17 Tiempos Compulsivos</td>\n",
       "      <td>Tiempos_Compul_E17</td>\n",
       "      <td>Episodio 17</td>\n",
       "      <td>Serie</td>\n",
       "      <td>2012.0</td>\n",
       "      <td>AR</td>\n",
       "      <td>Drama</td>\n",
       "      <td>Trastornos,Médicos,Tragicómica,Telenovela,Enfe...</td>\n",
       "      <td>...</td>\n",
       "      <td>N</td>\n",
       "      <td>N</td>\n",
       "      <td>N</td>\n",
       "      <td>N</td>\n",
       "      <td>N</td>\n",
       "      <td>N</td>\n",
       "      <td>2017-12-01 10:18:15+00:00</td>\n",
       "      <td>2019-01-26 06:37:18+00:00</td>\n",
       "      <td>2017-12-01 00:00:00+00:00</td>\n",
       "      <td>2020-12-01 23:59:59+00:00</td>\n",
       "    </tr>\n",
       "    <tr>\n",
       "      <th>1</th>\n",
       "      <td>24940</td>\n",
       "      <td>1.0</td>\n",
       "      <td>7 Cajas</td>\n",
       "      <td>7_Cajas</td>\n",
       "      <td>NaN</td>\n",
       "      <td>Película</td>\n",
       "      <td>2012.0</td>\n",
       "      <td>PY</td>\n",
       "      <td>Suspenso/Acción</td>\n",
       "      <td>Latinoamérica,Pobreza,Crimen,Pandillas</td>\n",
       "      <td>...</td>\n",
       "      <td>N</td>\n",
       "      <td>N</td>\n",
       "      <td>N</td>\n",
       "      <td>Y</td>\n",
       "      <td>N</td>\n",
       "      <td>N</td>\n",
       "      <td>2017-12-19 20:58:15+00:00</td>\n",
       "      <td>2019-09-17 19:02:03+00:00</td>\n",
       "      <td>2017-12-15 00:00:00+00:00</td>\n",
       "      <td>2022-12-14 23:59:59+00:00</td>\n",
       "    </tr>\n",
       "    <tr>\n",
       "      <th>2</th>\n",
       "      <td>21939</td>\n",
       "      <td>2.0</td>\n",
       "      <td>La Maldición de las Hormigas Gigantes</td>\n",
       "      <td>La_Maldicion_de_las</td>\n",
       "      <td>NaN</td>\n",
       "      <td>Película</td>\n",
       "      <td>2016.0</td>\n",
       "      <td>FI</td>\n",
       "      <td>Terror/Comedia</td>\n",
       "      <td>Criaturas,Plagas,Adolescentes,Fantasía,Video J...</td>\n",
       "      <td>...</td>\n",
       "      <td>N</td>\n",
       "      <td>N</td>\n",
       "      <td>N</td>\n",
       "      <td>N</td>\n",
       "      <td>N</td>\n",
       "      <td>N</td>\n",
       "      <td>2018-02-16 13:51:07+00:00</td>\n",
       "      <td>2020-04-28 14:16:38+00:00</td>\n",
       "      <td>2018-01-25 00:00:00+00:00</td>\n",
       "      <td>2020-12-01 23:59:59+00:00</td>\n",
       "    </tr>\n",
       "    <tr>\n",
       "      <th>3</th>\n",
       "      <td>9005</td>\n",
       "      <td>3.0</td>\n",
       "      <td>Una Mujer Fantástica</td>\n",
       "      <td>Una_Mujer_Fantastic</td>\n",
       "      <td>NaN</td>\n",
       "      <td>Película</td>\n",
       "      <td>2017.0</td>\n",
       "      <td>CL</td>\n",
       "      <td>Drama</td>\n",
       "      <td>LGBT,Mujeres,Latinoamérica</td>\n",
       "      <td>...</td>\n",
       "      <td>N</td>\n",
       "      <td>N</td>\n",
       "      <td>N</td>\n",
       "      <td>N</td>\n",
       "      <td>Y</td>\n",
       "      <td>N</td>\n",
       "      <td>2018-05-26 11:58:44+00:00</td>\n",
       "      <td>2019-11-15 03:00:23+00:00</td>\n",
       "      <td>2018-05-27 00:00:00+00:00</td>\n",
       "      <td>2021-04-30 23:59:59+00:00</td>\n",
       "    </tr>\n",
       "    <tr>\n",
       "      <th>4</th>\n",
       "      <td>7391</td>\n",
       "      <td>4.0</td>\n",
       "      <td>Star Trek</td>\n",
       "      <td>Star_Trek</td>\n",
       "      <td>NaN</td>\n",
       "      <td>Película</td>\n",
       "      <td>2009.0</td>\n",
       "      <td>US</td>\n",
       "      <td>Ciencia Ficción/Aventura</td>\n",
       "      <td>Fantasía,Galaxia,Futurismo,Aliens,Criaturas</td>\n",
       "      <td>...</td>\n",
       "      <td>N</td>\n",
       "      <td>N</td>\n",
       "      <td>N</td>\n",
       "      <td>Y</td>\n",
       "      <td>N</td>\n",
       "      <td>N</td>\n",
       "      <td>2019-05-03 20:07:24+00:00</td>\n",
       "      <td>2020-04-09 04:37:29+00:00</td>\n",
       "      <td>2019-05-02 00:00:00+00:00</td>\n",
       "      <td>2020-12-31 23:59:59+00:00</td>\n",
       "    </tr>\n",
       "  </tbody>\n",
       "</table>\n",
       "<p>5 rows × 30 columns</p>\n",
       "</div>"
      ],
      "text/plain": [
       "   asset_id  content_id                                  title  \\\n",
       "0     15188         0.0              Ep:17 Tiempos Compulsivos   \n",
       "1     24940         1.0                                7 Cajas   \n",
       "2     21939         2.0  La Maldición de las Hormigas Gigantes   \n",
       "3      9005         3.0                   Una Mujer Fantástica   \n",
       "4      7391         4.0                              Star Trek   \n",
       "\n",
       "         reduced_title episode_title show_type  released_year  \\\n",
       "0   Tiempos_Compul_E17   Episodio 17     Serie         2012.0   \n",
       "1              7_Cajas           NaN  Película         2012.0   \n",
       "2  La_Maldicion_de_las           NaN  Película         2016.0   \n",
       "3  Una_Mujer_Fantastic           NaN  Película         2017.0   \n",
       "4            Star_Trek           NaN  Película         2009.0   \n",
       "\n",
       "  country_of_origin                  category  \\\n",
       "0                AR                     Drama   \n",
       "1                PY           Suspenso/Acción   \n",
       "2                FI            Terror/Comedia   \n",
       "3                CL                     Drama   \n",
       "4                US  Ciencia Ficción/Aventura   \n",
       "\n",
       "                                            keywords  ... language_rating  \\\n",
       "0  Trastornos,Médicos,Tragicómica,Telenovela,Enfe...  ...               N   \n",
       "1             Latinoamérica,Pobreza,Crimen,Pandillas  ...               N   \n",
       "2  Criaturas,Plagas,Adolescentes,Fantasía,Video J...  ...               N   \n",
       "3                         LGBT,Mujeres,Latinoamérica  ...               N   \n",
       "4        Fantasía,Galaxia,Futurismo,Aliens,Criaturas  ...               N   \n",
       "\n",
       "  dialog_rating fv_rating pay_per_view  pack_premium_1 pack_premium_2  \\\n",
       "0             N         N            N               N              N   \n",
       "1             N         N            Y               N              N   \n",
       "2             N         N            N               N              N   \n",
       "3             N         N            N               Y              N   \n",
       "4             N         N            Y               N              N   \n",
       "\n",
       "                create_date               modify_date  \\\n",
       "0 2017-12-01 10:18:15+00:00 2019-01-26 06:37:18+00:00   \n",
       "1 2017-12-19 20:58:15+00:00 2019-09-17 19:02:03+00:00   \n",
       "2 2018-02-16 13:51:07+00:00 2020-04-28 14:16:38+00:00   \n",
       "3 2018-05-26 11:58:44+00:00 2019-11-15 03:00:23+00:00   \n",
       "4 2019-05-03 20:07:24+00:00 2020-04-09 04:37:29+00:00   \n",
       "\n",
       "             start_vod_date              end_vod_date  \n",
       "0 2017-12-01 00:00:00+00:00 2020-12-01 23:59:59+00:00  \n",
       "1 2017-12-15 00:00:00+00:00 2022-12-14 23:59:59+00:00  \n",
       "2 2018-01-25 00:00:00+00:00 2020-12-01 23:59:59+00:00  \n",
       "3 2018-05-27 00:00:00+00:00 2021-04-30 23:59:59+00:00  \n",
       "4 2019-05-02 00:00:00+00:00 2020-12-31 23:59:59+00:00  \n",
       "\n",
       "[5 rows x 30 columns]"
      ]
     },
     "execution_count": 4,
     "metadata": {},
     "output_type": "execute_result"
    }
   ],
   "source": [
    "metadata.head()"
   ]
  },
  {
   "cell_type": "markdown",
   "id": "f52c8460",
   "metadata": {},
   "source": [
    "# Merge datasets"
   ]
  },
  {
   "cell_type": "code",
   "execution_count": 5,
   "id": "ac7ffcea",
   "metadata": {},
   "outputs": [],
   "source": [
    "train_metadata = train.merge(metadata, on='asset_id', how='left')"
   ]
  },
  {
   "cell_type": "code",
   "execution_count": 6,
   "id": "0bd48217",
   "metadata": {},
   "outputs": [
    {
     "data": {
      "text/plain": [
       "Index(['customer_id', 'account_id', 'device_type', 'asset_id', 'tunein',\n",
       "       'tuneout', 'resume', 'content_id', 'title', 'reduced_title',\n",
       "       'episode_title', 'show_type', 'released_year', 'country_of_origin',\n",
       "       'category', 'keywords', 'description', 'reduced_desc',\n",
       "       'cast_first_name', 'credits_first_name', 'run_time_min', 'audience',\n",
       "       'made_for_tv', 'close_caption', 'sex_rating', 'violence_rating',\n",
       "       'language_rating', 'dialog_rating', 'fv_rating', 'pay_per_view',\n",
       "       'pack_premium_1', 'pack_premium_2', 'create_date', 'modify_date',\n",
       "       'start_vod_date', 'end_vod_date'],\n",
       "      dtype='object')"
      ]
     },
     "execution_count": 6,
     "metadata": {},
     "output_type": "execute_result"
    }
   ],
   "source": [
    "train_metadata.columns"
   ]
  },
  {
   "cell_type": "code",
   "execution_count": 7,
   "id": "e150122b",
   "metadata": {},
   "outputs": [],
   "source": [
    "train_metadata = train_metadata[['account_id', 'tunein', 'tuneout', 'content_id', 'title', 'end_vod_date']]"
   ]
  },
  {
   "cell_type": "code",
   "execution_count": 8,
   "id": "ff996ac0",
   "metadata": {},
   "outputs": [
    {
     "data": {
      "text/html": [
       "<div>\n",
       "<style scoped>\n",
       "    .dataframe tbody tr th:only-of-type {\n",
       "        vertical-align: middle;\n",
       "    }\n",
       "\n",
       "    .dataframe tbody tr th {\n",
       "        vertical-align: top;\n",
       "    }\n",
       "\n",
       "    .dataframe thead th {\n",
       "        text-align: right;\n",
       "    }\n",
       "</style>\n",
       "<table border=\"1\" class=\"dataframe\">\n",
       "  <thead>\n",
       "    <tr style=\"text-align: right;\">\n",
       "      <th></th>\n",
       "      <th>account_id</th>\n",
       "      <th>tunein</th>\n",
       "      <th>tuneout</th>\n",
       "      <th>content_id</th>\n",
       "      <th>title</th>\n",
       "      <th>end_vod_date</th>\n",
       "    </tr>\n",
       "  </thead>\n",
       "  <tbody>\n",
       "    <tr>\n",
       "      <th>0</th>\n",
       "      <td>90627</td>\n",
       "      <td>2021-02-18 22:52:00</td>\n",
       "      <td>2021-02-18 23:35:00</td>\n",
       "      <td>2040.0</td>\n",
       "      <td>T:5 Ep:08 This is Us</td>\n",
       "      <td>2021-06-30 23:59:59+00:00</td>\n",
       "    </tr>\n",
       "    <tr>\n",
       "      <th>1</th>\n",
       "      <td>90627</td>\n",
       "      <td>2021-03-24 23:17:00</td>\n",
       "      <td>2021-03-25 00:01:00</td>\n",
       "      <td>2040.0</td>\n",
       "      <td>T:5 Ep:10 This is Us</td>\n",
       "      <td>2021-06-30 23:59:59+00:00</td>\n",
       "    </tr>\n",
       "    <tr>\n",
       "      <th>2</th>\n",
       "      <td>3387</td>\n",
       "      <td>2021-03-15 10:05:00</td>\n",
       "      <td>2021-03-15 10:23:00</td>\n",
       "      <td>1983.0</td>\n",
       "      <td>T:1 Ep:02 Big Little Lies</td>\n",
       "      <td>2021-03-28 23:59:00+00:00</td>\n",
       "    </tr>\n",
       "    <tr>\n",
       "      <th>3</th>\n",
       "      <td>3387</td>\n",
       "      <td>2021-03-15 10:23:00</td>\n",
       "      <td>2021-03-15 11:18:00</td>\n",
       "      <td>1983.0</td>\n",
       "      <td>T:1 Ep:02 Big Little Lies</td>\n",
       "      <td>2021-03-28 23:59:00+00:00</td>\n",
       "    </tr>\n",
       "    <tr>\n",
       "      <th>4</th>\n",
       "      <td>3387</td>\n",
       "      <td>2021-03-16 09:24:00</td>\n",
       "      <td>2021-03-16 09:44:00</td>\n",
       "      <td>729.0</td>\n",
       "      <td>T:1 Ep:02 Dime quién soy</td>\n",
       "      <td>2021-03-28 23:59:00+00:00</td>\n",
       "    </tr>\n",
       "  </tbody>\n",
       "</table>\n",
       "</div>"
      ],
      "text/plain": [
       "   account_id              tunein             tuneout  content_id  \\\n",
       "0       90627 2021-02-18 22:52:00 2021-02-18 23:35:00      2040.0   \n",
       "1       90627 2021-03-24 23:17:00 2021-03-25 00:01:00      2040.0   \n",
       "2        3387 2021-03-15 10:05:00 2021-03-15 10:23:00      1983.0   \n",
       "3        3387 2021-03-15 10:23:00 2021-03-15 11:18:00      1983.0   \n",
       "4        3387 2021-03-16 09:24:00 2021-03-16 09:44:00       729.0   \n",
       "\n",
       "                       title              end_vod_date  \n",
       "0       T:5 Ep:08 This is Us 2021-06-30 23:59:59+00:00  \n",
       "1       T:5 Ep:10 This is Us 2021-06-30 23:59:59+00:00  \n",
       "2  T:1 Ep:02 Big Little Lies 2021-03-28 23:59:00+00:00  \n",
       "3  T:1 Ep:02 Big Little Lies 2021-03-28 23:59:00+00:00  \n",
       "4   T:1 Ep:02 Dime quién soy 2021-03-28 23:59:00+00:00  "
      ]
     },
     "execution_count": 8,
     "metadata": {},
     "output_type": "execute_result"
    }
   ],
   "source": [
    "train_metadata.head()"
   ]
  },
  {
   "cell_type": "markdown",
   "id": "601b0041",
   "metadata": {},
   "source": [
    "Para filtrar los contenidos que no van a estar disponibles en abril"
   ]
  },
  {
   "cell_type": "code",
   "execution_count": 9,
   "id": "097d795d",
   "metadata": {},
   "outputs": [],
   "source": [
    "train_metadata['end_vod_date'] = train_metadata['end_vod_date'].dt.tz_localize(None)"
   ]
  },
  {
   "cell_type": "code",
   "execution_count": 10,
   "id": "02e87cf4",
   "metadata": {},
   "outputs": [],
   "source": [
    "max_end_vod_date_by_content = train_metadata[['content_id', 'end_vod_date']].groupby('content_id', as_index=False).agg({'end_vod_date': 'max'})"
   ]
  },
  {
   "cell_type": "code",
   "execution_count": 11,
   "id": "042ff965",
   "metadata": {},
   "outputs": [],
   "source": [
    "end_before_april = max_end_vod_date_by_content[max_end_vod_date_by_content.end_vod_date < datetime(year=2021, month=4, day=1)].content_id.unique()\n",
    "end_before_april = [int(c) for c in end_before_april]"
   ]
  },
  {
   "cell_type": "code",
   "execution_count": 12,
   "id": "a6b9cb71",
   "metadata": {},
   "outputs": [
    {
     "data": {
      "text/plain": [
       "928"
      ]
     },
     "execution_count": 12,
     "metadata": {},
     "output_type": "execute_result"
    }
   ],
   "source": [
    "len(end_before_april)"
   ]
  },
  {
   "cell_type": "code",
   "execution_count": 13,
   "id": "77f78e39",
   "metadata": {},
   "outputs": [
    {
     "data": {
      "text/plain": [
       "4064"
      ]
     },
     "execution_count": 13,
     "metadata": {},
     "output_type": "execute_result"
    }
   ],
   "source": [
    "train_metadata.content_id.nunique()"
   ]
  },
  {
   "cell_type": "markdown",
   "id": "445d8c0d",
   "metadata": {},
   "source": [
    "# Dataset de interacciones"
   ]
  },
  {
   "cell_type": "code",
   "execution_count": 14,
   "id": "94f18a52",
   "metadata": {},
   "outputs": [
    {
     "data": {
      "text/html": [
       "<div>\n",
       "<style scoped>\n",
       "    .dataframe tbody tr th:only-of-type {\n",
       "        vertical-align: middle;\n",
       "    }\n",
       "\n",
       "    .dataframe tbody tr th {\n",
       "        vertical-align: top;\n",
       "    }\n",
       "\n",
       "    .dataframe thead th {\n",
       "        text-align: right;\n",
       "    }\n",
       "</style>\n",
       "<table border=\"1\" class=\"dataframe\">\n",
       "  <thead>\n",
       "    <tr style=\"text-align: right;\">\n",
       "      <th></th>\n",
       "      <th>account_id</th>\n",
       "      <th>content_id</th>\n",
       "    </tr>\n",
       "  </thead>\n",
       "  <tbody>\n",
       "    <tr>\n",
       "      <th>0</th>\n",
       "      <td>90627</td>\n",
       "      <td>2040.0</td>\n",
       "    </tr>\n",
       "    <tr>\n",
       "      <th>1</th>\n",
       "      <td>90627</td>\n",
       "      <td>2040.0</td>\n",
       "    </tr>\n",
       "    <tr>\n",
       "      <th>2</th>\n",
       "      <td>3387</td>\n",
       "      <td>1983.0</td>\n",
       "    </tr>\n",
       "    <tr>\n",
       "      <th>3</th>\n",
       "      <td>3387</td>\n",
       "      <td>1983.0</td>\n",
       "    </tr>\n",
       "    <tr>\n",
       "      <th>4</th>\n",
       "      <td>3387</td>\n",
       "      <td>729.0</td>\n",
       "    </tr>\n",
       "  </tbody>\n",
       "</table>\n",
       "</div>"
      ],
      "text/plain": [
       "   account_id  content_id\n",
       "0       90627      2040.0\n",
       "1       90627      2040.0\n",
       "2        3387      1983.0\n",
       "3        3387      1983.0\n",
       "4        3387       729.0"
      ]
     },
     "execution_count": 14,
     "metadata": {},
     "output_type": "execute_result"
    }
   ],
   "source": [
    "ft_train = train_metadata[['account_id', 'content_id']].copy()\n",
    "ft_train.head()"
   ]
  },
  {
   "cell_type": "code",
   "execution_count": 15,
   "id": "762de7da",
   "metadata": {},
   "outputs": [
    {
     "data": {
      "text/plain": [
       "(3657801, 2)"
      ]
     },
     "execution_count": 15,
     "metadata": {},
     "output_type": "execute_result"
    }
   ],
   "source": [
    "ft_train.shape"
   ]
  },
  {
   "cell_type": "code",
   "execution_count": 16,
   "id": "8f99f55d",
   "metadata": {},
   "outputs": [
    {
     "data": {
      "text/plain": [
       "account_id      0\n",
       "content_id    142\n",
       "dtype: int64"
      ]
     },
     "execution_count": 16,
     "metadata": {},
     "output_type": "execute_result"
    }
   ],
   "source": [
    "ft_train.isna().sum()"
   ]
  },
  {
   "cell_type": "code",
   "execution_count": 17,
   "id": "814e8c6b",
   "metadata": {},
   "outputs": [
    {
     "data": {
      "text/plain": [
       "113881"
      ]
     },
     "execution_count": 17,
     "metadata": {},
     "output_type": "execute_result"
    }
   ],
   "source": [
    "ft_train.account_id.nunique()"
   ]
  },
  {
   "cell_type": "code",
   "execution_count": 18,
   "id": "75dc0419",
   "metadata": {},
   "outputs": [
    {
     "data": {
      "text/plain": [
       "4064"
      ]
     },
     "execution_count": 18,
     "metadata": {},
     "output_type": "execute_result"
    }
   ],
   "source": [
    "ft_train.content_id.nunique()"
   ]
  },
  {
   "cell_type": "code",
   "execution_count": 19,
   "id": "5ed2a74e",
   "metadata": {},
   "outputs": [],
   "source": [
    "ft_train = ft_train.dropna()\n",
    "ft_train['content_id'] = ft_train['content_id'].astype(int)"
   ]
  },
  {
   "cell_type": "code",
   "execution_count": 20,
   "id": "48960c24",
   "metadata": {},
   "outputs": [
    {
     "data": {
      "text/plain": [
       "(3657659, 2)"
      ]
     },
     "execution_count": 20,
     "metadata": {},
     "output_type": "execute_result"
    }
   ],
   "source": [
    "ft_train.shape"
   ]
  },
  {
   "cell_type": "code",
   "execution_count": 21,
   "id": "bf39785b",
   "metadata": {},
   "outputs": [
    {
     "data": {
      "text/plain": [
       "113875"
      ]
     },
     "execution_count": 21,
     "metadata": {},
     "output_type": "execute_result"
    }
   ],
   "source": [
    "ft_train.account_id.nunique()"
   ]
  },
  {
   "cell_type": "code",
   "execution_count": 22,
   "id": "c8ae95e1",
   "metadata": {},
   "outputs": [
    {
     "data": {
      "text/plain": [
       "4064"
      ]
     },
     "execution_count": 22,
     "metadata": {},
     "output_type": "execute_result"
    }
   ],
   "source": [
    "ft_train.content_id.nunique()"
   ]
  },
  {
   "cell_type": "code",
   "execution_count": 23,
   "id": "4146732e",
   "metadata": {},
   "outputs": [
    {
     "data": {
      "text/html": [
       "<div>\n",
       "<style scoped>\n",
       "    .dataframe tbody tr th:only-of-type {\n",
       "        vertical-align: middle;\n",
       "    }\n",
       "\n",
       "    .dataframe tbody tr th {\n",
       "        vertical-align: top;\n",
       "    }\n",
       "\n",
       "    .dataframe thead th {\n",
       "        text-align: right;\n",
       "    }\n",
       "</style>\n",
       "<table border=\"1\" class=\"dataframe\">\n",
       "  <thead>\n",
       "    <tr style=\"text-align: right;\">\n",
       "      <th></th>\n",
       "      <th>account_id</th>\n",
       "      <th>content_id</th>\n",
       "    </tr>\n",
       "  </thead>\n",
       "  <tbody>\n",
       "    <tr>\n",
       "      <th>0</th>\n",
       "      <td>0</td>\n",
       "      <td>[3438, 2866, 3498, 1503, 3845]</td>\n",
       "    </tr>\n",
       "    <tr>\n",
       "      <th>1</th>\n",
       "      <td>1</td>\n",
       "      <td>[1020, 1220, 1761]</td>\n",
       "    </tr>\n",
       "    <tr>\n",
       "      <th>2</th>\n",
       "      <td>2</td>\n",
       "      <td>[1099, 6, 183, 557, 1582, 1443, 433]</td>\n",
       "    </tr>\n",
       "    <tr>\n",
       "      <th>3</th>\n",
       "      <td>3</td>\n",
       "      <td>[1463, 3790, 3755, 3769, 2810, 842, 3206, 2230...</td>\n",
       "    </tr>\n",
       "    <tr>\n",
       "      <th>4</th>\n",
       "      <td>4</td>\n",
       "      <td>[289, 2786, 4352, 1008, 3748, 2816, 1139, 3711...</td>\n",
       "    </tr>\n",
       "  </tbody>\n",
       "</table>\n",
       "</div>"
      ],
      "text/plain": [
       "   account_id                                         content_id\n",
       "0           0                     [3438, 2866, 3498, 1503, 3845]\n",
       "1           1                                 [1020, 1220, 1761]\n",
       "2           2               [1099, 6, 183, 557, 1582, 1443, 433]\n",
       "3           3  [1463, 3790, 3755, 3769, 2810, 842, 3206, 2230...\n",
       "4           4  [289, 2786, 4352, 1008, 3748, 2816, 1139, 3711..."
      ]
     },
     "execution_count": 23,
     "metadata": {},
     "output_type": "execute_result"
    }
   ],
   "source": [
    "account_contents = ft_train.groupby(by='account_id', as_index=False).agg({'content_id': 'unique'})\n",
    "account_contents.head()"
   ]
  },
  {
   "cell_type": "code",
   "execution_count": 24,
   "id": "98d878dc",
   "metadata": {},
   "outputs": [
    {
     "data": {
      "text/plain": [
       "dtype('O')"
      ]
     },
     "execution_count": 24,
     "metadata": {},
     "output_type": "execute_result"
    }
   ],
   "source": [
    "account_contents.content_id.dtype"
   ]
  },
  {
   "cell_type": "markdown",
   "id": "888d6cf4",
   "metadata": {},
   "source": [
    "# Armado de dataset de fasttext"
   ]
  },
  {
   "cell_type": "code",
   "execution_count": 25,
   "id": "9278c143",
   "metadata": {},
   "outputs": [],
   "source": [
    "def get_fasttext_dataset(views_df):\n",
    "    ft_dataset_lines = []\n",
    "    \n",
    "    for account_id in tqdm(account_contents.account_id.unique()):\n",
    "        watched_contents = views_df[views_df.account_id == account_id].content_id.values[0]\n",
    "        \n",
    "        if len(watched_contents) > 1:\n",
    "            for content in watched_contents:\n",
    "                contents = [str(c) for c in watched_contents if c != content]\n",
    "                label = content\n",
    "                str_contents = \" \".join([c for c in contents])\n",
    "                line = \" \".join([str_contents, f\"__label__{label}\", \"\\n\"])\n",
    "                ft_dataset_lines.append(line)\n",
    "    return ft_dataset_lines"
   ]
  },
  {
   "cell_type": "code",
   "execution_count": 26,
   "id": "1c0074f8",
   "metadata": {},
   "outputs": [
    {
     "name": "stderr",
     "output_type": "stream",
     "text": [
      "100%|██████████| 113875/113875 [02:42<00:00, 701.80it/s]"
     ]
    },
    {
     "name": "stdout",
     "output_type": "stream",
     "text": [
      "CPU times: user 2min 40s, sys: 2.48 s, total: 2min 43s\n",
      "Wall time: 2min 42s\n"
     ]
    },
    {
     "name": "stderr",
     "output_type": "stream",
     "text": [
      "\n"
     ]
    }
   ],
   "source": [
    "%%time\n",
    "ft_dataset_lines = get_fasttext_dataset(account_contents)"
   ]
  },
  {
   "cell_type": "code",
   "execution_count": 27,
   "id": "08f1f049",
   "metadata": {},
   "outputs": [
    {
     "data": {
      "text/plain": [
       "['2866 3498 1503 3845 __label__3438 \\n',\n",
       " '3438 3498 1503 3845 __label__2866 \\n',\n",
       " '3438 2866 1503 3845 __label__3498 \\n',\n",
       " '3438 2866 3498 3845 __label__1503 \\n',\n",
       " '3438 2866 3498 1503 __label__3845 \\n',\n",
       " '1220 1761 __label__1020 \\n',\n",
       " '1020 1761 __label__1220 \\n',\n",
       " '1020 1220 __label__1761 \\n',\n",
       " '6 183 557 1582 1443 433 __label__1099 \\n',\n",
       " '1099 183 557 1582 1443 433 __label__6 \\n']"
      ]
     },
     "execution_count": 27,
     "metadata": {},
     "output_type": "execute_result"
    }
   ],
   "source": [
    "ft_dataset_lines[:10]"
   ]
  },
  {
   "cell_type": "code",
   "execution_count": 28,
   "id": "d6614300",
   "metadata": {},
   "outputs": [
    {
     "name": "stderr",
     "output_type": "stream",
     "text": [
      "100%|██████████| 951580/951580 [00:13<00:00, 71435.41it/s]"
     ]
    },
    {
     "name": "stdout",
     "output_type": "stream",
     "text": [
      "CPU times: user 1.94 s, sys: 1.18 s, total: 3.12 s\n",
      "Wall time: 13.3 s\n"
     ]
    },
    {
     "name": "stderr",
     "output_type": "stream",
     "text": [
      "\n"
     ]
    }
   ],
   "source": [
    "%%time\n",
    "with open('fastext_features.txt', 'w') as f:\n",
    "    \n",
    "    for line in tqdm(ft_dataset_lines):\n",
    "        f.write(line)"
   ]
  },
  {
   "cell_type": "code",
   "execution_count": 29,
   "id": "6571c1e4",
   "metadata": {},
   "outputs": [
    {
     "name": "stdout",
     "output_type": "stream",
     "text": [
      "CPU times: user 3min 24s, sys: 5.65 s, total: 3min 30s\n",
      "Wall time: 33.9 s\n"
     ]
    }
   ],
   "source": [
    "%%time\n",
    "model = train_supervised(\n",
    "            input='fastext_features.txt',\n",
    "            epoch=25,\n",
    "            lr=0.3,\n",
    "            lrUpdateRate=100,\n",
    "            loss='hs',\n",
    "            wordNgrams=1,\n",
    "            verbose=2,\n",
    "            minCount=5,\n",
    "            minCountLabel=10,\n",
    "            dim=30\n",
    "        )"
   ]
  },
  {
   "cell_type": "code",
   "execution_count": 30,
   "id": "2580e2f0",
   "metadata": {},
   "outputs": [],
   "source": [
    "def id2title(content_id):\n",
    "    title = metadata[metadata.content_id == content_id].title.values[0]\n",
    "    return title\n",
    "\n",
    "def id2title_list(content_ids):\n",
    "    titles = metadata[metadata.content_id.isin(content_ids)].drop_duplicates('content_id').title.values\n",
    "    return titles\n",
    "\n",
    "def clean_recomms(recomms):\n",
    "    return [int(rec.replace(\"__label__\", \"\")) for rec in recomms]"
   ]
  },
  {
   "cell_type": "markdown",
   "id": "ecb67812",
   "metadata": {},
   "source": [
    "# Popularidad para cold start"
   ]
  },
  {
   "cell_type": "code",
   "execution_count": 31,
   "id": "322cc975",
   "metadata": {},
   "outputs": [
    {
     "data": {
      "text/html": [
       "<div>\n",
       "<style scoped>\n",
       "    .dataframe tbody tr th:only-of-type {\n",
       "        vertical-align: middle;\n",
       "    }\n",
       "\n",
       "    .dataframe tbody tr th {\n",
       "        vertical-align: top;\n",
       "    }\n",
       "\n",
       "    .dataframe thead th {\n",
       "        text-align: right;\n",
       "    }\n",
       "</style>\n",
       "<table border=\"1\" class=\"dataframe\">\n",
       "  <thead>\n",
       "    <tr style=\"text-align: right;\">\n",
       "      <th></th>\n",
       "      <th>content_id</th>\n",
       "      <th>accounts</th>\n",
       "    </tr>\n",
       "  </thead>\n",
       "  <tbody>\n",
       "    <tr>\n",
       "      <th>1764</th>\n",
       "      <td>2040</td>\n",
       "      <td>13629</td>\n",
       "    </tr>\n",
       "    <tr>\n",
       "      <th>3515</th>\n",
       "      <td>3806</td>\n",
       "      <td>9377</td>\n",
       "    </tr>\n",
       "    <tr>\n",
       "      <th>3609</th>\n",
       "      <td>3900</td>\n",
       "      <td>9082</td>\n",
       "    </tr>\n",
       "    <tr>\n",
       "      <th>3839</th>\n",
       "      <td>4133</td>\n",
       "      <td>8722</td>\n",
       "    </tr>\n",
       "    <tr>\n",
       "      <th>1707</th>\n",
       "      <td>1983</td>\n",
       "      <td>6695</td>\n",
       "    </tr>\n",
       "  </tbody>\n",
       "</table>\n",
       "</div>"
      ],
      "text/plain": [
       "      content_id  accounts\n",
       "1764        2040     13629\n",
       "3515        3806      9377\n",
       "3609        3900      9082\n",
       "3839        4133      8722\n",
       "1707        1983      6695"
      ]
     },
     "execution_count": 31,
     "metadata": {},
     "output_type": "execute_result"
    }
   ],
   "source": [
    "popularity_df = ft_train[['account_id', 'content_id']].groupby('content_id', as_index=False).agg({'account_id': 'nunique'})\n",
    "popularity_df.columns = ['content_id', 'accounts']\n",
    "popularity_df = popularity_df.sort_values(by='accounts', ascending=False)\n",
    "popularity_df.head()"
   ]
  },
  {
   "cell_type": "markdown",
   "id": "cc593a59",
   "metadata": {},
   "source": [
    "# Recomendaciones"
   ]
  },
  {
   "cell_type": "code",
   "execution_count": 32,
   "id": "cebb4e25",
   "metadata": {},
   "outputs": [
    {
     "name": "stderr",
     "output_type": "stream",
     "text": [
      "100%|██████████| 113881/113881 [12:18<00:00, 154.20it/s]\n"
     ]
    }
   ],
   "source": [
    "N_PREDS = 15\n",
    "recomms = {\n",
    "    'account_id': [],\n",
    "    'recomms': []\n",
    "}\n",
    "\n",
    "for account_id in tqdm(train_metadata.account_id.unique()):\n",
    "    watched_contents = account_contents[account_contents.account_id == account_id].content_id.values\n",
    "    \n",
    "    if len(watched_contents) > 0:\n",
    "        watched_contents = watched_contents[0]\n",
    "        preds = []\n",
    "        str_contents = \" \".join([str(c) for c in watched_contents])\n",
    "        line_to_predict = \" \".join([str_contents])\n",
    "        preds = model.predict(line_to_predict, k=N_PREDS)[0]\n",
    "        preds = clean_recomms(preds)\n",
    "        preds = [p for p in preds if p not in end_before_april]\n",
    "        int_watched_contents = [int(c) for c in watched_contents]\n",
    "        preds = [p for p in preds if p not in int_watched_contents]\n",
    "        \n",
    "        no_watched_popular_contents = popularity_df[(~popularity_df.content_id.isin(int_watched_contents))\n",
    "                                                     & (~popularity_df.content_id.isin(preds))\n",
    "                                                     & (~popularity_df.content_id.isin(end_before_april))].sort_values(by='accounts', ascending=False).content_id.unique()\n",
    "        i = 0\n",
    "        while len(preds) < 20:\n",
    "            preds.append(no_watched_popular_contents[i])\n",
    "            i += 1\n",
    "        \n",
    "        recomms['account_id'].append(account_id)\n",
    "        recomms['recomms'].append(preds)\n",
    "    else:\n",
    "        popular = popularity_df[~popularity_df.content_id.isin(end_before_april)].sort_values(by='accounts', ascending=False).content_id.unique()[:20]\n",
    "        recomms['account_id'].append(account_id)\n",
    "        recomms['recomms'].append(popular)"
   ]
  },
  {
   "cell_type": "code",
   "execution_count": 33,
   "id": "668761e8",
   "metadata": {},
   "outputs": [
    {
     "data": {
      "text/plain": [
       "113881"
      ]
     },
     "execution_count": 33,
     "metadata": {},
     "output_type": "execute_result"
    }
   ],
   "source": [
    "len(recomms['account_id'])"
   ]
  },
  {
   "cell_type": "code",
   "execution_count": 34,
   "id": "f61f44c2",
   "metadata": {},
   "outputs": [
    {
     "name": "stdout",
     "output_type": "stream",
     "text": [
      "CPU times: user 154 ms, sys: 3.98 ms, total: 158 ms\n",
      "Wall time: 157 ms\n"
     ]
    }
   ],
   "source": [
    "%%time\n",
    "recomms_df = pd.DataFrame(recomms)"
   ]
  },
  {
   "cell_type": "code",
   "execution_count": 35,
   "id": "0336ff52",
   "metadata": {},
   "outputs": [
    {
     "data": {
      "text/plain": [
       "113881"
      ]
     },
     "execution_count": 35,
     "metadata": {},
     "output_type": "execute_result"
    }
   ],
   "source": [
    "recomms_df.account_id.nunique()"
   ]
  },
  {
   "cell_type": "code",
   "execution_count": 36,
   "id": "839888f7",
   "metadata": {},
   "outputs": [
    {
     "data": {
      "text/html": [
       "<div>\n",
       "<style scoped>\n",
       "    .dataframe tbody tr th:only-of-type {\n",
       "        vertical-align: middle;\n",
       "    }\n",
       "\n",
       "    .dataframe tbody tr th {\n",
       "        vertical-align: top;\n",
       "    }\n",
       "\n",
       "    .dataframe thead th {\n",
       "        text-align: right;\n",
       "    }\n",
       "</style>\n",
       "<table border=\"1\" class=\"dataframe\">\n",
       "  <thead>\n",
       "    <tr style=\"text-align: right;\">\n",
       "      <th></th>\n",
       "      <th>account_id</th>\n",
       "      <th>recomms</th>\n",
       "    </tr>\n",
       "  </thead>\n",
       "  <tbody>\n",
       "    <tr>\n",
       "      <th>0</th>\n",
       "      <td>90627</td>\n",
       "      <td>[116, 1877, 1983, 3806, 1573, 3900, 1539, 774,...</td>\n",
       "    </tr>\n",
       "    <tr>\n",
       "      <th>1</th>\n",
       "      <td>3387</td>\n",
       "      <td>[2040, 4133, 3900, 3806, 2627, 1462, 2942, 187...</td>\n",
       "    </tr>\n",
       "    <tr>\n",
       "      <th>2</th>\n",
       "      <td>3388</td>\n",
       "      <td>[116, 4133, 724, 1877, 1983, 3716, 3900, 1462,...</td>\n",
       "    </tr>\n",
       "    <tr>\n",
       "      <th>3</th>\n",
       "      <td>3389</td>\n",
       "      <td>[1020, 3900, 1573, 724, 3214, 3806, 1983, 3206...</td>\n",
       "    </tr>\n",
       "    <tr>\n",
       "      <th>4</th>\n",
       "      <td>3390</td>\n",
       "      <td>[2721, 3900, 4133, 1462, 3152, 3711, 2942, 205...</td>\n",
       "    </tr>\n",
       "  </tbody>\n",
       "</table>\n",
       "</div>"
      ],
      "text/plain": [
       "   account_id                                            recomms\n",
       "0       90627  [116, 1877, 1983, 3806, 1573, 3900, 1539, 774,...\n",
       "1        3387  [2040, 4133, 3900, 3806, 2627, 1462, 2942, 187...\n",
       "2        3388  [116, 4133, 724, 1877, 1983, 3716, 3900, 1462,...\n",
       "3        3389  [1020, 3900, 1573, 724, 3214, 3806, 1983, 3206...\n",
       "4        3390  [2721, 3900, 4133, 1462, 3152, 3711, 2942, 205..."
      ]
     },
     "execution_count": 36,
     "metadata": {},
     "output_type": "execute_result"
    }
   ],
   "source": [
    "recomms_df.head()"
   ]
  },
  {
   "cell_type": "markdown",
   "id": "f2dd28f8",
   "metadata": {},
   "source": [
    "# Recomendaciones csv"
   ]
  },
  {
   "cell_type": "code",
   "execution_count": 37,
   "id": "b8c6ddb5",
   "metadata": {},
   "outputs": [],
   "source": [
    "recomms_df[['account_id', 'recomms']].sort_values(by='account_id', ascending=True).to_csv('v2_1.csv', index=None, header=None)"
   ]
  },
  {
   "cell_type": "code",
   "execution_count": 69,
   "id": "79780778",
   "metadata": {},
   "outputs": [],
   "source": [
    "user = 1000"
   ]
  },
  {
   "cell_type": "code",
   "execution_count": 70,
   "id": "2d35a317",
   "metadata": {},
   "outputs": [],
   "source": [
    "test = recomms_df[recomms_df.account_id == user].copy()\n",
    "test['names'] = test['recomms'].apply(id2title_list)"
   ]
  },
  {
   "cell_type": "code",
   "execution_count": 71,
   "id": "1b0a9d34",
   "metadata": {},
   "outputs": [
    {
     "data": {
      "text/html": [
       "<div>\n",
       "<style scoped>\n",
       "    .dataframe tbody tr th:only-of-type {\n",
       "        vertical-align: middle;\n",
       "    }\n",
       "\n",
       "    .dataframe tbody tr th {\n",
       "        vertical-align: top;\n",
       "    }\n",
       "\n",
       "    .dataframe thead th {\n",
       "        text-align: right;\n",
       "    }\n",
       "</style>\n",
       "<table border=\"1\" class=\"dataframe\">\n",
       "  <thead>\n",
       "    <tr style=\"text-align: right;\">\n",
       "      <th></th>\n",
       "      <th>account_id</th>\n",
       "      <th>recomms</th>\n",
       "      <th>names</th>\n",
       "    </tr>\n",
       "  </thead>\n",
       "  <tbody>\n",
       "    <tr>\n",
       "      <th>94714</th>\n",
       "      <td>1000</td>\n",
       "      <td>[2160, 1139, 304, 8, 20, 2163, 491, 712, 637, ...</td>\n",
       "      <td>[T:1 Ep:05 Mickey: Aventuras sobre ruedas, T:2...</td>\n",
       "    </tr>\n",
       "  </tbody>\n",
       "</table>\n",
       "</div>"
      ],
      "text/plain": [
       "       account_id                                            recomms  \\\n",
       "94714        1000  [2160, 1139, 304, 8, 20, 2163, 491, 712, 637, ...   \n",
       "\n",
       "                                                   names  \n",
       "94714  [T:1 Ep:05 Mickey: Aventuras sobre ruedas, T:2...  "
      ]
     },
     "execution_count": 71,
     "metadata": {},
     "output_type": "execute_result"
    }
   ],
   "source": [
    "test"
   ]
  },
  {
   "cell_type": "code",
   "execution_count": 72,
   "id": "6db84a7e",
   "metadata": {},
   "outputs": [
    {
     "name": "stdout",
     "output_type": "stream",
     "text": [
      "['T:1 Ep:05 Mickey: Aventuras sobre ruedas' 'T:2 Ep:73 Puppy Dog Pals'\n",
      " 'T:3 Ep:74 Doctora Juguetes' 'T:1 Ep:01 La Granja de Zenón'\n",
      " 'T:1 Ep:01 La Granja de Zenón: La Serie' 'T:1 Ep:19 Fancy Nancy Clancy'\n",
      " 'T:2 Ep:65 Vampirina' 'T:1 Ep:30 Mira: La detective del reino'\n",
      " 'T:1 Ep:43 T.O.T.S. Tiny Ones Transfer Service'\n",
      " 'T:1 Ep:03 Dime quién soy' 'T:1 Ep:36 Bluey' 'T:1 Ep:04 Big Little Lies'\n",
      " 'T:1 Ep:01 This is Us' 'T:1 Ep:01 Paw Patrol, Patrulla Canina'\n",
      " 'T:1 Ep:01 Gallina Pintadita Mini' 'T:1 Ep:01 The Outpost'\n",
      " 'Fuga de pretoria' 'Cosa de minas' 'T:1 Ep:01 The Collapse'\n",
      " 'T:1 Ep:01 El nudo']\n"
     ]
    }
   ],
   "source": [
    "for name in test.names:\n",
    "    print(name)"
   ]
  },
  {
   "cell_type": "code",
   "execution_count": 73,
   "id": "adab40bf",
   "metadata": {},
   "outputs": [
    {
     "data": {
      "text/plain": [
       "array(['T:2 Ep:50 Muppet Babies', 'T:8 Ep:40 Peppa Pig',\n",
       "       'T:1 Ep:01 Gallina Pintadita Collections', 'T:1 Ep:01 Devils'],\n",
       "      dtype=object)"
      ]
     },
     "execution_count": 73,
     "metadata": {},
     "output_type": "execute_result"
    }
   ],
   "source": [
    "id2title_list(train_metadata[train_metadata.account_id == user].content_id.unique())"
   ]
  },
  {
   "cell_type": "code",
   "execution_count": null,
   "id": "11183f27",
   "metadata": {},
   "outputs": [],
   "source": []
  },
  {
   "cell_type": "code",
   "execution_count": null,
   "id": "2d212001",
   "metadata": {},
   "outputs": [],
   "source": []
  }
 ],
 "metadata": {
  "kernelspec": {
   "display_name": "Python 3",
   "language": "python",
   "name": "python3"
  },
  "language_info": {
   "codemirror_mode": {
    "name": "ipython",
    "version": 3
   },
   "file_extension": ".py",
   "mimetype": "text/x-python",
   "name": "python",
   "nbconvert_exporter": "python",
   "pygments_lexer": "ipython3",
   "version": "3.6.11"
  }
 },
 "nbformat": 4,
 "nbformat_minor": 5
}
