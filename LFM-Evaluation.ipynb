{
 "cells": [
  {
   "cell_type": "code",
   "execution_count": null,
   "id": "91b9b8b4",
   "metadata": {},
   "outputs": [],
   "source": [
    "#!pip install lightfm"
   ]
  },
  {
   "cell_type": "markdown",
   "id": "5650d177",
   "metadata": {},
   "source": [
    "# V3 Recommender: LightFM \n",
    "\n",
    "Doc: https://making.lyst.com/lightfm/docs/lightfm.html"
   ]
  },
  {
   "cell_type": "code",
   "execution_count": 2,
   "id": "fc0c9569",
   "metadata": {},
   "outputs": [],
   "source": [
    "import pandas as pd\n",
    "import numpy as np\n",
    "from tqdm import tqdm\n",
    "from datetime import datetime\n",
    "from lightfm import LightFM\n",
    "from scipy.sparse import csr_matrix"
   ]
  },
  {
   "cell_type": "markdown",
   "id": "889dd830",
   "metadata": {},
   "source": [
    "# Datos"
   ]
  },
  {
   "cell_type": "code",
   "execution_count": 3,
   "id": "8add4133",
   "metadata": {},
   "outputs": [],
   "source": [
    "metadata = pd.read_csv(\"../../data/metadata.csv\", delimiter=\";\", parse_dates=['create_date', 'modify_date', 'start_vod_date', 'end_vod_date'])\n",
    "train = pd.read_csv(\"../../data/train.csv\", parse_dates=['tunein', 'tuneout'])"
   ]
  },
  {
   "cell_type": "code",
   "execution_count": 4,
   "id": "848c767b",
   "metadata": {},
   "outputs": [
    {
     "data": {
      "text/html": [
       "<div>\n",
       "<style scoped>\n",
       "    .dataframe tbody tr th:only-of-type {\n",
       "        vertical-align: middle;\n",
       "    }\n",
       "\n",
       "    .dataframe tbody tr th {\n",
       "        vertical-align: top;\n",
       "    }\n",
       "\n",
       "    .dataframe thead th {\n",
       "        text-align: right;\n",
       "    }\n",
       "</style>\n",
       "<table border=\"1\" class=\"dataframe\">\n",
       "  <thead>\n",
       "    <tr style=\"text-align: right;\">\n",
       "      <th></th>\n",
       "      <th>customer_id</th>\n",
       "      <th>account_id</th>\n",
       "      <th>device_type</th>\n",
       "      <th>asset_id</th>\n",
       "      <th>tunein</th>\n",
       "      <th>tuneout</th>\n",
       "      <th>resume</th>\n",
       "    </tr>\n",
       "  </thead>\n",
       "  <tbody>\n",
       "    <tr>\n",
       "      <th>0</th>\n",
       "      <td>0</td>\n",
       "      <td>90627</td>\n",
       "      <td>STATIONARY</td>\n",
       "      <td>18332.0</td>\n",
       "      <td>2021-02-18 22:52:00</td>\n",
       "      <td>2021-02-18 23:35:00</td>\n",
       "      <td>0</td>\n",
       "    </tr>\n",
       "    <tr>\n",
       "      <th>1</th>\n",
       "      <td>0</td>\n",
       "      <td>90627</td>\n",
       "      <td>STATIONARY</td>\n",
       "      <td>24727.0</td>\n",
       "      <td>2021-03-24 23:17:00</td>\n",
       "      <td>2021-03-25 00:01:00</td>\n",
       "      <td>0</td>\n",
       "    </tr>\n",
       "    <tr>\n",
       "      <th>2</th>\n",
       "      <td>1</td>\n",
       "      <td>3387</td>\n",
       "      <td>STB</td>\n",
       "      <td>895.0</td>\n",
       "      <td>2021-03-15 10:05:00</td>\n",
       "      <td>2021-03-15 10:23:00</td>\n",
       "      <td>0</td>\n",
       "    </tr>\n",
       "    <tr>\n",
       "      <th>3</th>\n",
       "      <td>1</td>\n",
       "      <td>3387</td>\n",
       "      <td>STB</td>\n",
       "      <td>895.0</td>\n",
       "      <td>2021-03-15 10:23:00</td>\n",
       "      <td>2021-03-15 11:18:00</td>\n",
       "      <td>1</td>\n",
       "    </tr>\n",
       "    <tr>\n",
       "      <th>4</th>\n",
       "      <td>1</td>\n",
       "      <td>3387</td>\n",
       "      <td>STB</td>\n",
       "      <td>26062.0</td>\n",
       "      <td>2021-03-16 09:24:00</td>\n",
       "      <td>2021-03-16 09:44:00</td>\n",
       "      <td>0</td>\n",
       "    </tr>\n",
       "  </tbody>\n",
       "</table>\n",
       "</div>"
      ],
      "text/plain": [
       "   customer_id  account_id device_type  asset_id              tunein  \\\n",
       "0            0       90627  STATIONARY   18332.0 2021-02-18 22:52:00   \n",
       "1            0       90627  STATIONARY   24727.0 2021-03-24 23:17:00   \n",
       "2            1        3387         STB     895.0 2021-03-15 10:05:00   \n",
       "3            1        3387         STB     895.0 2021-03-15 10:23:00   \n",
       "4            1        3387         STB   26062.0 2021-03-16 09:24:00   \n",
       "\n",
       "              tuneout  resume  \n",
       "0 2021-02-18 23:35:00       0  \n",
       "1 2021-03-25 00:01:00       0  \n",
       "2 2021-03-15 10:23:00       0  \n",
       "3 2021-03-15 11:18:00       1  \n",
       "4 2021-03-16 09:44:00       0  "
      ]
     },
     "execution_count": 4,
     "metadata": {},
     "output_type": "execute_result"
    }
   ],
   "source": [
    "train.head()"
   ]
  },
  {
   "cell_type": "code",
   "execution_count": 5,
   "id": "4f7d9536",
   "metadata": {},
   "outputs": [
    {
     "data": {
      "text/html": [
       "<div>\n",
       "<style scoped>\n",
       "    .dataframe tbody tr th:only-of-type {\n",
       "        vertical-align: middle;\n",
       "    }\n",
       "\n",
       "    .dataframe tbody tr th {\n",
       "        vertical-align: top;\n",
       "    }\n",
       "\n",
       "    .dataframe thead th {\n",
       "        text-align: right;\n",
       "    }\n",
       "</style>\n",
       "<table border=\"1\" class=\"dataframe\">\n",
       "  <thead>\n",
       "    <tr style=\"text-align: right;\">\n",
       "      <th></th>\n",
       "      <th>asset_id</th>\n",
       "      <th>content_id</th>\n",
       "      <th>title</th>\n",
       "      <th>reduced_title</th>\n",
       "      <th>episode_title</th>\n",
       "      <th>show_type</th>\n",
       "      <th>released_year</th>\n",
       "      <th>country_of_origin</th>\n",
       "      <th>category</th>\n",
       "      <th>keywords</th>\n",
       "      <th>...</th>\n",
       "      <th>language_rating</th>\n",
       "      <th>dialog_rating</th>\n",
       "      <th>fv_rating</th>\n",
       "      <th>pay_per_view</th>\n",
       "      <th>pack_premium_1</th>\n",
       "      <th>pack_premium_2</th>\n",
       "      <th>create_date</th>\n",
       "      <th>modify_date</th>\n",
       "      <th>start_vod_date</th>\n",
       "      <th>end_vod_date</th>\n",
       "    </tr>\n",
       "  </thead>\n",
       "  <tbody>\n",
       "    <tr>\n",
       "      <th>0</th>\n",
       "      <td>15188</td>\n",
       "      <td>0.0</td>\n",
       "      <td>Ep:17 Tiempos Compulsivos</td>\n",
       "      <td>Tiempos_Compul_E17</td>\n",
       "      <td>Episodio 17</td>\n",
       "      <td>Serie</td>\n",
       "      <td>2012.0</td>\n",
       "      <td>AR</td>\n",
       "      <td>Drama</td>\n",
       "      <td>Trastornos,Médicos,Tragicómica,Telenovela,Enfe...</td>\n",
       "      <td>...</td>\n",
       "      <td>N</td>\n",
       "      <td>N</td>\n",
       "      <td>N</td>\n",
       "      <td>N</td>\n",
       "      <td>N</td>\n",
       "      <td>N</td>\n",
       "      <td>2017-12-01 10:18:15+00:00</td>\n",
       "      <td>2019-01-26 06:37:18+00:00</td>\n",
       "      <td>2017-12-01 00:00:00+00:00</td>\n",
       "      <td>2020-12-01 23:59:59+00:00</td>\n",
       "    </tr>\n",
       "    <tr>\n",
       "      <th>1</th>\n",
       "      <td>24940</td>\n",
       "      <td>1.0</td>\n",
       "      <td>7 Cajas</td>\n",
       "      <td>7_Cajas</td>\n",
       "      <td>NaN</td>\n",
       "      <td>Película</td>\n",
       "      <td>2012.0</td>\n",
       "      <td>PY</td>\n",
       "      <td>Suspenso/Acción</td>\n",
       "      <td>Latinoamérica,Pobreza,Crimen,Pandillas</td>\n",
       "      <td>...</td>\n",
       "      <td>N</td>\n",
       "      <td>N</td>\n",
       "      <td>N</td>\n",
       "      <td>Y</td>\n",
       "      <td>N</td>\n",
       "      <td>N</td>\n",
       "      <td>2017-12-19 20:58:15+00:00</td>\n",
       "      <td>2019-09-17 19:02:03+00:00</td>\n",
       "      <td>2017-12-15 00:00:00+00:00</td>\n",
       "      <td>2022-12-14 23:59:59+00:00</td>\n",
       "    </tr>\n",
       "    <tr>\n",
       "      <th>2</th>\n",
       "      <td>21939</td>\n",
       "      <td>2.0</td>\n",
       "      <td>La Maldición de las Hormigas Gigantes</td>\n",
       "      <td>La_Maldicion_de_las</td>\n",
       "      <td>NaN</td>\n",
       "      <td>Película</td>\n",
       "      <td>2016.0</td>\n",
       "      <td>FI</td>\n",
       "      <td>Terror/Comedia</td>\n",
       "      <td>Criaturas,Plagas,Adolescentes,Fantasía,Video J...</td>\n",
       "      <td>...</td>\n",
       "      <td>N</td>\n",
       "      <td>N</td>\n",
       "      <td>N</td>\n",
       "      <td>N</td>\n",
       "      <td>N</td>\n",
       "      <td>N</td>\n",
       "      <td>2018-02-16 13:51:07+00:00</td>\n",
       "      <td>2020-04-28 14:16:38+00:00</td>\n",
       "      <td>2018-01-25 00:00:00+00:00</td>\n",
       "      <td>2020-12-01 23:59:59+00:00</td>\n",
       "    </tr>\n",
       "    <tr>\n",
       "      <th>3</th>\n",
       "      <td>9005</td>\n",
       "      <td>3.0</td>\n",
       "      <td>Una Mujer Fantástica</td>\n",
       "      <td>Una_Mujer_Fantastic</td>\n",
       "      <td>NaN</td>\n",
       "      <td>Película</td>\n",
       "      <td>2017.0</td>\n",
       "      <td>CL</td>\n",
       "      <td>Drama</td>\n",
       "      <td>LGBT,Mujeres,Latinoamérica</td>\n",
       "      <td>...</td>\n",
       "      <td>N</td>\n",
       "      <td>N</td>\n",
       "      <td>N</td>\n",
       "      <td>N</td>\n",
       "      <td>Y</td>\n",
       "      <td>N</td>\n",
       "      <td>2018-05-26 11:58:44+00:00</td>\n",
       "      <td>2019-11-15 03:00:23+00:00</td>\n",
       "      <td>2018-05-27 00:00:00+00:00</td>\n",
       "      <td>2021-04-30 23:59:59+00:00</td>\n",
       "    </tr>\n",
       "    <tr>\n",
       "      <th>4</th>\n",
       "      <td>7391</td>\n",
       "      <td>4.0</td>\n",
       "      <td>Star Trek</td>\n",
       "      <td>Star_Trek</td>\n",
       "      <td>NaN</td>\n",
       "      <td>Película</td>\n",
       "      <td>2009.0</td>\n",
       "      <td>US</td>\n",
       "      <td>Ciencia Ficción/Aventura</td>\n",
       "      <td>Fantasía,Galaxia,Futurismo,Aliens,Criaturas</td>\n",
       "      <td>...</td>\n",
       "      <td>N</td>\n",
       "      <td>N</td>\n",
       "      <td>N</td>\n",
       "      <td>Y</td>\n",
       "      <td>N</td>\n",
       "      <td>N</td>\n",
       "      <td>2019-05-03 20:07:24+00:00</td>\n",
       "      <td>2020-04-09 04:37:29+00:00</td>\n",
       "      <td>2019-05-02 00:00:00+00:00</td>\n",
       "      <td>2020-12-31 23:59:59+00:00</td>\n",
       "    </tr>\n",
       "  </tbody>\n",
       "</table>\n",
       "<p>5 rows × 30 columns</p>\n",
       "</div>"
      ],
      "text/plain": [
       "   asset_id  content_id                                  title  \\\n",
       "0     15188         0.0              Ep:17 Tiempos Compulsivos   \n",
       "1     24940         1.0                                7 Cajas   \n",
       "2     21939         2.0  La Maldición de las Hormigas Gigantes   \n",
       "3      9005         3.0                   Una Mujer Fantástica   \n",
       "4      7391         4.0                              Star Trek   \n",
       "\n",
       "         reduced_title episode_title show_type  released_year  \\\n",
       "0   Tiempos_Compul_E17   Episodio 17     Serie         2012.0   \n",
       "1              7_Cajas           NaN  Película         2012.0   \n",
       "2  La_Maldicion_de_las           NaN  Película         2016.0   \n",
       "3  Una_Mujer_Fantastic           NaN  Película         2017.0   \n",
       "4            Star_Trek           NaN  Película         2009.0   \n",
       "\n",
       "  country_of_origin                  category  \\\n",
       "0                AR                     Drama   \n",
       "1                PY           Suspenso/Acción   \n",
       "2                FI            Terror/Comedia   \n",
       "3                CL                     Drama   \n",
       "4                US  Ciencia Ficción/Aventura   \n",
       "\n",
       "                                            keywords  ... language_rating  \\\n",
       "0  Trastornos,Médicos,Tragicómica,Telenovela,Enfe...  ...               N   \n",
       "1             Latinoamérica,Pobreza,Crimen,Pandillas  ...               N   \n",
       "2  Criaturas,Plagas,Adolescentes,Fantasía,Video J...  ...               N   \n",
       "3                         LGBT,Mujeres,Latinoamérica  ...               N   \n",
       "4        Fantasía,Galaxia,Futurismo,Aliens,Criaturas  ...               N   \n",
       "\n",
       "  dialog_rating fv_rating pay_per_view  pack_premium_1 pack_premium_2  \\\n",
       "0             N         N            N               N              N   \n",
       "1             N         N            Y               N              N   \n",
       "2             N         N            N               N              N   \n",
       "3             N         N            N               Y              N   \n",
       "4             N         N            Y               N              N   \n",
       "\n",
       "                create_date               modify_date  \\\n",
       "0 2017-12-01 10:18:15+00:00 2019-01-26 06:37:18+00:00   \n",
       "1 2017-12-19 20:58:15+00:00 2019-09-17 19:02:03+00:00   \n",
       "2 2018-02-16 13:51:07+00:00 2020-04-28 14:16:38+00:00   \n",
       "3 2018-05-26 11:58:44+00:00 2019-11-15 03:00:23+00:00   \n",
       "4 2019-05-03 20:07:24+00:00 2020-04-09 04:37:29+00:00   \n",
       "\n",
       "             start_vod_date              end_vod_date  \n",
       "0 2017-12-01 00:00:00+00:00 2020-12-01 23:59:59+00:00  \n",
       "1 2017-12-15 00:00:00+00:00 2022-12-14 23:59:59+00:00  \n",
       "2 2018-01-25 00:00:00+00:00 2020-12-01 23:59:59+00:00  \n",
       "3 2018-05-27 00:00:00+00:00 2021-04-30 23:59:59+00:00  \n",
       "4 2019-05-02 00:00:00+00:00 2020-12-31 23:59:59+00:00  \n",
       "\n",
       "[5 rows x 30 columns]"
      ]
     },
     "execution_count": 5,
     "metadata": {},
     "output_type": "execute_result"
    }
   ],
   "source": [
    "metadata.head()"
   ]
  },
  {
   "cell_type": "code",
   "execution_count": 6,
   "id": "6c5531d9",
   "metadata": {},
   "outputs": [],
   "source": [
    "train_metadata = train.merge(metadata, on='asset_id', how='left')"
   ]
  },
  {
   "cell_type": "code",
   "execution_count": 7,
   "id": "735fe47c",
   "metadata": {},
   "outputs": [
    {
     "data": {
      "text/plain": [
       "Index(['customer_id', 'account_id', 'device_type', 'asset_id', 'tunein',\n",
       "       'tuneout', 'resume', 'content_id', 'title', 'reduced_title',\n",
       "       'episode_title', 'show_type', 'released_year', 'country_of_origin',\n",
       "       'category', 'keywords', 'description', 'reduced_desc',\n",
       "       'cast_first_name', 'credits_first_name', 'run_time_min', 'audience',\n",
       "       'made_for_tv', 'close_caption', 'sex_rating', 'violence_rating',\n",
       "       'language_rating', 'dialog_rating', 'fv_rating', 'pay_per_view',\n",
       "       'pack_premium_1', 'pack_premium_2', 'create_date', 'modify_date',\n",
       "       'start_vod_date', 'end_vod_date'],\n",
       "      dtype='object')"
      ]
     },
     "execution_count": 7,
     "metadata": {},
     "output_type": "execute_result"
    }
   ],
   "source": [
    "train_metadata.columns"
   ]
  },
  {
   "cell_type": "code",
   "execution_count": 8,
   "id": "d4f70d67",
   "metadata": {},
   "outputs": [],
   "source": [
    "train_metadata = train_metadata[['account_id', 'tunein', 'tuneout', 'content_id', 'title', 'end_vod_date']]"
   ]
  },
  {
   "cell_type": "code",
   "execution_count": 9,
   "id": "dec3a713",
   "metadata": {},
   "outputs": [
    {
     "data": {
      "text/html": [
       "<div>\n",
       "<style scoped>\n",
       "    .dataframe tbody tr th:only-of-type {\n",
       "        vertical-align: middle;\n",
       "    }\n",
       "\n",
       "    .dataframe tbody tr th {\n",
       "        vertical-align: top;\n",
       "    }\n",
       "\n",
       "    .dataframe thead th {\n",
       "        text-align: right;\n",
       "    }\n",
       "</style>\n",
       "<table border=\"1\" class=\"dataframe\">\n",
       "  <thead>\n",
       "    <tr style=\"text-align: right;\">\n",
       "      <th></th>\n",
       "      <th>account_id</th>\n",
       "      <th>tunein</th>\n",
       "      <th>tuneout</th>\n",
       "      <th>content_id</th>\n",
       "      <th>title</th>\n",
       "      <th>end_vod_date</th>\n",
       "    </tr>\n",
       "  </thead>\n",
       "  <tbody>\n",
       "    <tr>\n",
       "      <th>0</th>\n",
       "      <td>90627</td>\n",
       "      <td>2021-02-18 22:52:00</td>\n",
       "      <td>2021-02-18 23:35:00</td>\n",
       "      <td>2040.0</td>\n",
       "      <td>T:5 Ep:08 This is Us</td>\n",
       "      <td>2021-06-30 23:59:59+00:00</td>\n",
       "    </tr>\n",
       "    <tr>\n",
       "      <th>1</th>\n",
       "      <td>90627</td>\n",
       "      <td>2021-03-24 23:17:00</td>\n",
       "      <td>2021-03-25 00:01:00</td>\n",
       "      <td>2040.0</td>\n",
       "      <td>T:5 Ep:10 This is Us</td>\n",
       "      <td>2021-06-30 23:59:59+00:00</td>\n",
       "    </tr>\n",
       "    <tr>\n",
       "      <th>2</th>\n",
       "      <td>3387</td>\n",
       "      <td>2021-03-15 10:05:00</td>\n",
       "      <td>2021-03-15 10:23:00</td>\n",
       "      <td>1983.0</td>\n",
       "      <td>T:1 Ep:02 Big Little Lies</td>\n",
       "      <td>2021-03-28 23:59:00+00:00</td>\n",
       "    </tr>\n",
       "    <tr>\n",
       "      <th>3</th>\n",
       "      <td>3387</td>\n",
       "      <td>2021-03-15 10:23:00</td>\n",
       "      <td>2021-03-15 11:18:00</td>\n",
       "      <td>1983.0</td>\n",
       "      <td>T:1 Ep:02 Big Little Lies</td>\n",
       "      <td>2021-03-28 23:59:00+00:00</td>\n",
       "    </tr>\n",
       "    <tr>\n",
       "      <th>4</th>\n",
       "      <td>3387</td>\n",
       "      <td>2021-03-16 09:24:00</td>\n",
       "      <td>2021-03-16 09:44:00</td>\n",
       "      <td>729.0</td>\n",
       "      <td>T:1 Ep:02 Dime quién soy</td>\n",
       "      <td>2021-03-28 23:59:00+00:00</td>\n",
       "    </tr>\n",
       "  </tbody>\n",
       "</table>\n",
       "</div>"
      ],
      "text/plain": [
       "   account_id              tunein             tuneout  content_id  \\\n",
       "0       90627 2021-02-18 22:52:00 2021-02-18 23:35:00      2040.0   \n",
       "1       90627 2021-03-24 23:17:00 2021-03-25 00:01:00      2040.0   \n",
       "2        3387 2021-03-15 10:05:00 2021-03-15 10:23:00      1983.0   \n",
       "3        3387 2021-03-15 10:23:00 2021-03-15 11:18:00      1983.0   \n",
       "4        3387 2021-03-16 09:24:00 2021-03-16 09:44:00       729.0   \n",
       "\n",
       "                       title              end_vod_date  \n",
       "0       T:5 Ep:08 This is Us 2021-06-30 23:59:59+00:00  \n",
       "1       T:5 Ep:10 This is Us 2021-06-30 23:59:59+00:00  \n",
       "2  T:1 Ep:02 Big Little Lies 2021-03-28 23:59:00+00:00  \n",
       "3  T:1 Ep:02 Big Little Lies 2021-03-28 23:59:00+00:00  \n",
       "4   T:1 Ep:02 Dime quién soy 2021-03-28 23:59:00+00:00  "
      ]
     },
     "execution_count": 9,
     "metadata": {},
     "output_type": "execute_result"
    }
   ],
   "source": [
    "train_metadata.head()"
   ]
  },
  {
   "cell_type": "markdown",
   "id": "9f25a397",
   "metadata": {},
   "source": [
    "# Train test split"
   ]
  },
  {
   "cell_type": "code",
   "execution_count": 10,
   "id": "073beacc",
   "metadata": {},
   "outputs": [],
   "source": [
    "train_max_date = datetime(year=2021, month=3, day=1)"
   ]
  },
  {
   "cell_type": "code",
   "execution_count": 11,
   "id": "58a7e4eb",
   "metadata": {},
   "outputs": [],
   "source": [
    "test = train_metadata[train_metadata.tunein > train_max_date]\n",
    "train_metadata = train_metadata[train_metadata.tunein <= train_max_date]"
   ]
  },
  {
   "cell_type": "markdown",
   "id": "dac8157c",
   "metadata": {},
   "source": [
    "# Filtros\n",
    "\n",
    "Se filtran contenidos que no van a estar disponibles (ninguno de sus asset_ids) después de la fecha de train"
   ]
  },
  {
   "cell_type": "code",
   "execution_count": 12,
   "id": "bfa6fcd5",
   "metadata": {},
   "outputs": [],
   "source": [
    "train_metadata['end_vod_date'] = train_metadata['end_vod_date'].dt.tz_localize(None)"
   ]
  },
  {
   "cell_type": "code",
   "execution_count": 13,
   "id": "c992c9fc",
   "metadata": {},
   "outputs": [],
   "source": [
    "max_end_vod_date_by_content = train_metadata[['content_id', 'end_vod_date']].groupby('content_id', as_index=False).agg({'end_vod_date': 'max'})"
   ]
  },
  {
   "cell_type": "code",
   "execution_count": 14,
   "id": "e7857f11",
   "metadata": {},
   "outputs": [
    {
     "data": {
      "text/plain": [
       "array([ 10., 101., 107., 114., 118., 127., 156., 171., 174., 183.])"
      ]
     },
     "execution_count": 14,
     "metadata": {},
     "output_type": "execute_result"
    }
   ],
   "source": [
    "end_before_april = max_end_vod_date_by_content[max_end_vod_date_by_content.end_vod_date < datetime(year=2021, month=3, day=1)].content_id.unique()\n",
    "end_before_april[:10]"
   ]
  },
  {
   "cell_type": "markdown",
   "id": "08a77c89",
   "metadata": {},
   "source": [
    "# Interacciones\n",
    "\n",
    "Armo un dataset con las interacciones account - content."
   ]
  },
  {
   "cell_type": "code",
   "execution_count": 15,
   "id": "c1b201d8",
   "metadata": {},
   "outputs": [
    {
     "data": {
      "text/html": [
       "<div>\n",
       "<style scoped>\n",
       "    .dataframe tbody tr th:only-of-type {\n",
       "        vertical-align: middle;\n",
       "    }\n",
       "\n",
       "    .dataframe tbody tr th {\n",
       "        vertical-align: top;\n",
       "    }\n",
       "\n",
       "    .dataframe thead th {\n",
       "        text-align: right;\n",
       "    }\n",
       "</style>\n",
       "<table border=\"1\" class=\"dataframe\">\n",
       "  <thead>\n",
       "    <tr style=\"text-align: right;\">\n",
       "      <th></th>\n",
       "      <th>account_id</th>\n",
       "      <th>content_id</th>\n",
       "    </tr>\n",
       "  </thead>\n",
       "  <tbody>\n",
       "    <tr>\n",
       "      <th>0</th>\n",
       "      <td>90627</td>\n",
       "      <td>2040.0</td>\n",
       "    </tr>\n",
       "    <tr>\n",
       "      <th>6</th>\n",
       "      <td>3388</td>\n",
       "      <td>2100.0</td>\n",
       "    </tr>\n",
       "    <tr>\n",
       "      <th>7</th>\n",
       "      <td>3388</td>\n",
       "      <td>2100.0</td>\n",
       "    </tr>\n",
       "    <tr>\n",
       "      <th>8</th>\n",
       "      <td>3388</td>\n",
       "      <td>2100.0</td>\n",
       "    </tr>\n",
       "    <tr>\n",
       "      <th>9</th>\n",
       "      <td>3388</td>\n",
       "      <td>2100.0</td>\n",
       "    </tr>\n",
       "  </tbody>\n",
       "</table>\n",
       "</div>"
      ],
      "text/plain": [
       "   account_id  content_id\n",
       "0       90627      2040.0\n",
       "6        3388      2100.0\n",
       "7        3388      2100.0\n",
       "8        3388      2100.0\n",
       "9        3388      2100.0"
      ]
     },
     "execution_count": 15,
     "metadata": {},
     "output_type": "execute_result"
    }
   ],
   "source": [
    "interactions = train_metadata[['account_id', 'content_id']].copy()\n",
    "interactions.head()"
   ]
  },
  {
   "cell_type": "markdown",
   "id": "cc3c2cd9",
   "metadata": {},
   "source": [
    "Nulos:"
   ]
  },
  {
   "cell_type": "code",
   "execution_count": 16,
   "id": "2b7c853e",
   "metadata": {},
   "outputs": [
    {
     "data": {
      "text/plain": [
       "account_id     0\n",
       "content_id    24\n",
       "dtype: int64"
      ]
     },
     "execution_count": 16,
     "metadata": {},
     "output_type": "execute_result"
    }
   ],
   "source": [
    "interactions.isna().sum()"
   ]
  },
  {
   "cell_type": "code",
   "execution_count": 17,
   "id": "f41ca286",
   "metadata": {},
   "outputs": [
    {
     "data": {
      "text/plain": [
       "(2339070, 2)"
      ]
     },
     "execution_count": 17,
     "metadata": {},
     "output_type": "execute_result"
    }
   ],
   "source": [
    "interactions.shape"
   ]
  },
  {
   "cell_type": "code",
   "execution_count": 18,
   "id": "6b9f6000",
   "metadata": {},
   "outputs": [
    {
     "data": {
      "text/plain": [
       "99649"
      ]
     },
     "execution_count": 18,
     "metadata": {},
     "output_type": "execute_result"
    }
   ],
   "source": [
    "interactions.account_id.nunique()"
   ]
  },
  {
   "cell_type": "code",
   "execution_count": 19,
   "id": "82cda954",
   "metadata": {},
   "outputs": [
    {
     "data": {
      "text/plain": [
       "3692"
      ]
     },
     "execution_count": 19,
     "metadata": {},
     "output_type": "execute_result"
    }
   ],
   "source": [
    "interactions.content_id.nunique()"
   ]
  },
  {
   "cell_type": "markdown",
   "id": "ad30baaa",
   "metadata": {},
   "source": [
    "Elimino los nulos"
   ]
  },
  {
   "cell_type": "code",
   "execution_count": 20,
   "id": "505fdbda",
   "metadata": {},
   "outputs": [],
   "source": [
    "interactions = interactions.dropna()"
   ]
  },
  {
   "cell_type": "code",
   "execution_count": 21,
   "id": "78ed3239",
   "metadata": {},
   "outputs": [
    {
     "data": {
      "text/plain": [
       "(2339046, 2)"
      ]
     },
     "execution_count": 21,
     "metadata": {},
     "output_type": "execute_result"
    }
   ],
   "source": [
    "interactions.shape"
   ]
  },
  {
   "cell_type": "code",
   "execution_count": 22,
   "id": "d5ad23fb",
   "metadata": {},
   "outputs": [
    {
     "data": {
      "text/html": [
       "<div>\n",
       "<style scoped>\n",
       "    .dataframe tbody tr th:only-of-type {\n",
       "        vertical-align: middle;\n",
       "    }\n",
       "\n",
       "    .dataframe tbody tr th {\n",
       "        vertical-align: top;\n",
       "    }\n",
       "\n",
       "    .dataframe thead th {\n",
       "        text-align: right;\n",
       "    }\n",
       "</style>\n",
       "<table border=\"1\" class=\"dataframe\">\n",
       "  <thead>\n",
       "    <tr style=\"text-align: right;\">\n",
       "      <th></th>\n",
       "      <th>account_id</th>\n",
       "      <th>content_id</th>\n",
       "    </tr>\n",
       "  </thead>\n",
       "  <tbody>\n",
       "    <tr>\n",
       "      <th>0</th>\n",
       "      <td>90627</td>\n",
       "      <td>2040.0</td>\n",
       "    </tr>\n",
       "    <tr>\n",
       "      <th>6</th>\n",
       "      <td>3388</td>\n",
       "      <td>2100.0</td>\n",
       "    </tr>\n",
       "    <tr>\n",
       "      <th>7</th>\n",
       "      <td>3388</td>\n",
       "      <td>2100.0</td>\n",
       "    </tr>\n",
       "    <tr>\n",
       "      <th>8</th>\n",
       "      <td>3388</td>\n",
       "      <td>2100.0</td>\n",
       "    </tr>\n",
       "    <tr>\n",
       "      <th>9</th>\n",
       "      <td>3388</td>\n",
       "      <td>2100.0</td>\n",
       "    </tr>\n",
       "  </tbody>\n",
       "</table>\n",
       "</div>"
      ],
      "text/plain": [
       "   account_id  content_id\n",
       "0       90627      2040.0\n",
       "6        3388      2100.0\n",
       "7        3388      2100.0\n",
       "8        3388      2100.0\n",
       "9        3388      2100.0"
      ]
     },
     "execution_count": 22,
     "metadata": {},
     "output_type": "execute_result"
    }
   ],
   "source": [
    "interactions.head()"
   ]
  },
  {
   "cell_type": "code",
   "execution_count": 23,
   "id": "edfee611",
   "metadata": {},
   "outputs": [],
   "source": [
    "interactions = interactions.drop_duplicates()"
   ]
  },
  {
   "cell_type": "code",
   "execution_count": 24,
   "id": "a73d1e70",
   "metadata": {},
   "outputs": [
    {
     "data": {
      "text/plain": [
       "(672124, 2)"
      ]
     },
     "execution_count": 24,
     "metadata": {},
     "output_type": "execute_result"
    }
   ],
   "source": [
    "interactions.shape"
   ]
  },
  {
   "cell_type": "code",
   "execution_count": 25,
   "id": "159aa880",
   "metadata": {},
   "outputs": [
    {
     "data": {
      "text/plain": [
       "99647"
      ]
     },
     "execution_count": 25,
     "metadata": {},
     "output_type": "execute_result"
    }
   ],
   "source": [
    "interactions.account_id.nunique()"
   ]
  },
  {
   "cell_type": "code",
   "execution_count": 26,
   "id": "e21dff19",
   "metadata": {},
   "outputs": [
    {
     "data": {
      "text/plain": [
       "3692"
      ]
     },
     "execution_count": 26,
     "metadata": {},
     "output_type": "execute_result"
    }
   ],
   "source": [
    "interactions.content_id.nunique()"
   ]
  },
  {
   "cell_type": "markdown",
   "id": "c8582dc1",
   "metadata": {},
   "source": [
    "Agrego columna watched con el valor 1 que indica que la cuenta vio el contenido"
   ]
  },
  {
   "cell_type": "code",
   "execution_count": 27,
   "id": "8838d0af",
   "metadata": {},
   "outputs": [],
   "source": [
    "interactions['watched'] = 1"
   ]
  },
  {
   "cell_type": "code",
   "execution_count": 28,
   "id": "87bd23e8",
   "metadata": {},
   "outputs": [
    {
     "data": {
      "text/html": [
       "<div>\n",
       "<style scoped>\n",
       "    .dataframe tbody tr th:only-of-type {\n",
       "        vertical-align: middle;\n",
       "    }\n",
       "\n",
       "    .dataframe tbody tr th {\n",
       "        vertical-align: top;\n",
       "    }\n",
       "\n",
       "    .dataframe thead th {\n",
       "        text-align: right;\n",
       "    }\n",
       "</style>\n",
       "<table border=\"1\" class=\"dataframe\">\n",
       "  <thead>\n",
       "    <tr style=\"text-align: right;\">\n",
       "      <th></th>\n",
       "      <th>account_id</th>\n",
       "      <th>content_id</th>\n",
       "      <th>watched</th>\n",
       "    </tr>\n",
       "  </thead>\n",
       "  <tbody>\n",
       "    <tr>\n",
       "      <th>0</th>\n",
       "      <td>90627</td>\n",
       "      <td>2040.0</td>\n",
       "      <td>1</td>\n",
       "    </tr>\n",
       "    <tr>\n",
       "      <th>6</th>\n",
       "      <td>3388</td>\n",
       "      <td>2100.0</td>\n",
       "      <td>1</td>\n",
       "    </tr>\n",
       "    <tr>\n",
       "      <th>12</th>\n",
       "      <td>3388</td>\n",
       "      <td>691.0</td>\n",
       "      <td>1</td>\n",
       "    </tr>\n",
       "    <tr>\n",
       "      <th>30</th>\n",
       "      <td>3388</td>\n",
       "      <td>3487.0</td>\n",
       "      <td>1</td>\n",
       "    </tr>\n",
       "    <tr>\n",
       "      <th>38</th>\n",
       "      <td>3388</td>\n",
       "      <td>3038.0</td>\n",
       "      <td>1</td>\n",
       "    </tr>\n",
       "  </tbody>\n",
       "</table>\n",
       "</div>"
      ],
      "text/plain": [
       "    account_id  content_id  watched\n",
       "0        90627      2040.0        1\n",
       "6         3388      2100.0        1\n",
       "12        3388       691.0        1\n",
       "30        3388      3487.0        1\n",
       "38        3388      3038.0        1"
      ]
     },
     "execution_count": 28,
     "metadata": {},
     "output_type": "execute_result"
    }
   ],
   "source": [
    "interactions.head()"
   ]
  },
  {
   "cell_type": "markdown",
   "id": "a25ae3fa",
   "metadata": {},
   "source": [
    "# Matrix\n",
    "\n",
    "Armo una matriz con las interacciones. Los valores van a ser 1 si el usuario vio el contenido y 0 de lo contrario"
   ]
  },
  {
   "cell_type": "code",
   "execution_count": 29,
   "id": "757da116",
   "metadata": {},
   "outputs": [],
   "source": [
    "interactions_matrix = pd.pivot_table(interactions, index='account_id', columns='content_id', values='watched')"
   ]
  },
  {
   "cell_type": "code",
   "execution_count": 30,
   "id": "fcdf5593",
   "metadata": {},
   "outputs": [
    {
     "data": {
      "text/plain": [
       "(99647, 3692)"
      ]
     },
     "execution_count": 30,
     "metadata": {},
     "output_type": "execute_result"
    }
   ],
   "source": [
    "interactions_matrix.shape"
   ]
  },
  {
   "cell_type": "code",
   "execution_count": 31,
   "id": "55394911",
   "metadata": {},
   "outputs": [
    {
     "data": {
      "text/html": [
       "<div>\n",
       "<style scoped>\n",
       "    .dataframe tbody tr th:only-of-type {\n",
       "        vertical-align: middle;\n",
       "    }\n",
       "\n",
       "    .dataframe tbody tr th {\n",
       "        vertical-align: top;\n",
       "    }\n",
       "\n",
       "    .dataframe thead th {\n",
       "        text-align: right;\n",
       "    }\n",
       "</style>\n",
       "<table border=\"1\" class=\"dataframe\">\n",
       "  <thead>\n",
       "    <tr style=\"text-align: right;\">\n",
       "      <th>content_id</th>\n",
       "      <th>0.0</th>\n",
       "      <th>1.0</th>\n",
       "      <th>3.0</th>\n",
       "      <th>6.0</th>\n",
       "      <th>7.0</th>\n",
       "      <th>8.0</th>\n",
       "      <th>9.0</th>\n",
       "      <th>10.0</th>\n",
       "      <th>11.0</th>\n",
       "      <th>12.0</th>\n",
       "      <th>...</th>\n",
       "      <th>4357.0</th>\n",
       "      <th>4358.0</th>\n",
       "      <th>4359.0</th>\n",
       "      <th>4360.0</th>\n",
       "      <th>4361.0</th>\n",
       "      <th>4362.0</th>\n",
       "      <th>4363.0</th>\n",
       "      <th>4364.0</th>\n",
       "      <th>4365.0</th>\n",
       "      <th>4366.0</th>\n",
       "    </tr>\n",
       "    <tr>\n",
       "      <th>account_id</th>\n",
       "      <th></th>\n",
       "      <th></th>\n",
       "      <th></th>\n",
       "      <th></th>\n",
       "      <th></th>\n",
       "      <th></th>\n",
       "      <th></th>\n",
       "      <th></th>\n",
       "      <th></th>\n",
       "      <th></th>\n",
       "      <th></th>\n",
       "      <th></th>\n",
       "      <th></th>\n",
       "      <th></th>\n",
       "      <th></th>\n",
       "      <th></th>\n",
       "      <th></th>\n",
       "      <th></th>\n",
       "      <th></th>\n",
       "      <th></th>\n",
       "      <th></th>\n",
       "    </tr>\n",
       "  </thead>\n",
       "  <tbody>\n",
       "    <tr>\n",
       "      <th>0</th>\n",
       "      <td>NaN</td>\n",
       "      <td>NaN</td>\n",
       "      <td>NaN</td>\n",
       "      <td>NaN</td>\n",
       "      <td>NaN</td>\n",
       "      <td>NaN</td>\n",
       "      <td>NaN</td>\n",
       "      <td>NaN</td>\n",
       "      <td>NaN</td>\n",
       "      <td>NaN</td>\n",
       "      <td>...</td>\n",
       "      <td>NaN</td>\n",
       "      <td>NaN</td>\n",
       "      <td>NaN</td>\n",
       "      <td>NaN</td>\n",
       "      <td>NaN</td>\n",
       "      <td>NaN</td>\n",
       "      <td>NaN</td>\n",
       "      <td>NaN</td>\n",
       "      <td>NaN</td>\n",
       "      <td>NaN</td>\n",
       "    </tr>\n",
       "    <tr>\n",
       "      <th>1</th>\n",
       "      <td>NaN</td>\n",
       "      <td>NaN</td>\n",
       "      <td>NaN</td>\n",
       "      <td>NaN</td>\n",
       "      <td>NaN</td>\n",
       "      <td>NaN</td>\n",
       "      <td>NaN</td>\n",
       "      <td>NaN</td>\n",
       "      <td>NaN</td>\n",
       "      <td>NaN</td>\n",
       "      <td>...</td>\n",
       "      <td>NaN</td>\n",
       "      <td>NaN</td>\n",
       "      <td>NaN</td>\n",
       "      <td>NaN</td>\n",
       "      <td>NaN</td>\n",
       "      <td>NaN</td>\n",
       "      <td>NaN</td>\n",
       "      <td>NaN</td>\n",
       "      <td>NaN</td>\n",
       "      <td>NaN</td>\n",
       "    </tr>\n",
       "    <tr>\n",
       "      <th>2</th>\n",
       "      <td>NaN</td>\n",
       "      <td>NaN</td>\n",
       "      <td>NaN</td>\n",
       "      <td>1.0</td>\n",
       "      <td>NaN</td>\n",
       "      <td>NaN</td>\n",
       "      <td>NaN</td>\n",
       "      <td>NaN</td>\n",
       "      <td>NaN</td>\n",
       "      <td>NaN</td>\n",
       "      <td>...</td>\n",
       "      <td>NaN</td>\n",
       "      <td>NaN</td>\n",
       "      <td>NaN</td>\n",
       "      <td>NaN</td>\n",
       "      <td>NaN</td>\n",
       "      <td>NaN</td>\n",
       "      <td>NaN</td>\n",
       "      <td>NaN</td>\n",
       "      <td>NaN</td>\n",
       "      <td>NaN</td>\n",
       "    </tr>\n",
       "    <tr>\n",
       "      <th>3</th>\n",
       "      <td>NaN</td>\n",
       "      <td>NaN</td>\n",
       "      <td>NaN</td>\n",
       "      <td>NaN</td>\n",
       "      <td>NaN</td>\n",
       "      <td>NaN</td>\n",
       "      <td>NaN</td>\n",
       "      <td>NaN</td>\n",
       "      <td>NaN</td>\n",
       "      <td>NaN</td>\n",
       "      <td>...</td>\n",
       "      <td>NaN</td>\n",
       "      <td>NaN</td>\n",
       "      <td>NaN</td>\n",
       "      <td>NaN</td>\n",
       "      <td>NaN</td>\n",
       "      <td>NaN</td>\n",
       "      <td>NaN</td>\n",
       "      <td>NaN</td>\n",
       "      <td>NaN</td>\n",
       "      <td>NaN</td>\n",
       "    </tr>\n",
       "    <tr>\n",
       "      <th>4</th>\n",
       "      <td>NaN</td>\n",
       "      <td>NaN</td>\n",
       "      <td>NaN</td>\n",
       "      <td>NaN</td>\n",
       "      <td>NaN</td>\n",
       "      <td>NaN</td>\n",
       "      <td>NaN</td>\n",
       "      <td>NaN</td>\n",
       "      <td>NaN</td>\n",
       "      <td>NaN</td>\n",
       "      <td>...</td>\n",
       "      <td>NaN</td>\n",
       "      <td>NaN</td>\n",
       "      <td>NaN</td>\n",
       "      <td>NaN</td>\n",
       "      <td>NaN</td>\n",
       "      <td>NaN</td>\n",
       "      <td>NaN</td>\n",
       "      <td>NaN</td>\n",
       "      <td>NaN</td>\n",
       "      <td>NaN</td>\n",
       "    </tr>\n",
       "  </tbody>\n",
       "</table>\n",
       "<p>5 rows × 3692 columns</p>\n",
       "</div>"
      ],
      "text/plain": [
       "content_id  0.0     1.0     3.0     6.0     7.0     8.0     9.0     10.0    \\\n",
       "account_id                                                                   \n",
       "0              NaN     NaN     NaN     NaN     NaN     NaN     NaN     NaN   \n",
       "1              NaN     NaN     NaN     NaN     NaN     NaN     NaN     NaN   \n",
       "2              NaN     NaN     NaN     1.0     NaN     NaN     NaN     NaN   \n",
       "3              NaN     NaN     NaN     NaN     NaN     NaN     NaN     NaN   \n",
       "4              NaN     NaN     NaN     NaN     NaN     NaN     NaN     NaN   \n",
       "\n",
       "content_id  11.0    12.0    ...  4357.0  4358.0  4359.0  4360.0  4361.0  \\\n",
       "account_id                  ...                                           \n",
       "0              NaN     NaN  ...     NaN     NaN     NaN     NaN     NaN   \n",
       "1              NaN     NaN  ...     NaN     NaN     NaN     NaN     NaN   \n",
       "2              NaN     NaN  ...     NaN     NaN     NaN     NaN     NaN   \n",
       "3              NaN     NaN  ...     NaN     NaN     NaN     NaN     NaN   \n",
       "4              NaN     NaN  ...     NaN     NaN     NaN     NaN     NaN   \n",
       "\n",
       "content_id  4362.0  4363.0  4364.0  4365.0  4366.0  \n",
       "account_id                                          \n",
       "0              NaN     NaN     NaN     NaN     NaN  \n",
       "1              NaN     NaN     NaN     NaN     NaN  \n",
       "2              NaN     NaN     NaN     NaN     NaN  \n",
       "3              NaN     NaN     NaN     NaN     NaN  \n",
       "4              NaN     NaN     NaN     NaN     NaN  \n",
       "\n",
       "[5 rows x 3692 columns]"
      ]
     },
     "execution_count": 31,
     "metadata": {},
     "output_type": "execute_result"
    }
   ],
   "source": [
    "interactions_matrix.head()"
   ]
  },
  {
   "cell_type": "code",
   "execution_count": 32,
   "id": "9e170d41",
   "metadata": {},
   "outputs": [
    {
     "data": {
      "text/plain": [
       "(99647, 3692)"
      ]
     },
     "execution_count": 32,
     "metadata": {},
     "output_type": "execute_result"
    }
   ],
   "source": [
    "interactions_matrix.shape"
   ]
  },
  {
   "cell_type": "code",
   "execution_count": 33,
   "id": "1719964e",
   "metadata": {},
   "outputs": [],
   "source": [
    "interactions_matrix = interactions_matrix.fillna(0)"
   ]
  },
  {
   "cell_type": "code",
   "execution_count": 34,
   "id": "eef31f63",
   "metadata": {},
   "outputs": [
    {
     "data": {
      "text/html": [
       "<div>\n",
       "<style scoped>\n",
       "    .dataframe tbody tr th:only-of-type {\n",
       "        vertical-align: middle;\n",
       "    }\n",
       "\n",
       "    .dataframe tbody tr th {\n",
       "        vertical-align: top;\n",
       "    }\n",
       "\n",
       "    .dataframe thead th {\n",
       "        text-align: right;\n",
       "    }\n",
       "</style>\n",
       "<table border=\"1\" class=\"dataframe\">\n",
       "  <thead>\n",
       "    <tr style=\"text-align: right;\">\n",
       "      <th>content_id</th>\n",
       "      <th>0.0</th>\n",
       "      <th>1.0</th>\n",
       "      <th>3.0</th>\n",
       "      <th>6.0</th>\n",
       "      <th>7.0</th>\n",
       "      <th>8.0</th>\n",
       "      <th>9.0</th>\n",
       "      <th>10.0</th>\n",
       "      <th>11.0</th>\n",
       "      <th>12.0</th>\n",
       "      <th>...</th>\n",
       "      <th>4357.0</th>\n",
       "      <th>4358.0</th>\n",
       "      <th>4359.0</th>\n",
       "      <th>4360.0</th>\n",
       "      <th>4361.0</th>\n",
       "      <th>4362.0</th>\n",
       "      <th>4363.0</th>\n",
       "      <th>4364.0</th>\n",
       "      <th>4365.0</th>\n",
       "      <th>4366.0</th>\n",
       "    </tr>\n",
       "    <tr>\n",
       "      <th>account_id</th>\n",
       "      <th></th>\n",
       "      <th></th>\n",
       "      <th></th>\n",
       "      <th></th>\n",
       "      <th></th>\n",
       "      <th></th>\n",
       "      <th></th>\n",
       "      <th></th>\n",
       "      <th></th>\n",
       "      <th></th>\n",
       "      <th></th>\n",
       "      <th></th>\n",
       "      <th></th>\n",
       "      <th></th>\n",
       "      <th></th>\n",
       "      <th></th>\n",
       "      <th></th>\n",
       "      <th></th>\n",
       "      <th></th>\n",
       "      <th></th>\n",
       "      <th></th>\n",
       "    </tr>\n",
       "  </thead>\n",
       "  <tbody>\n",
       "    <tr>\n",
       "      <th>0</th>\n",
       "      <td>0.0</td>\n",
       "      <td>0.0</td>\n",
       "      <td>0.0</td>\n",
       "      <td>0.0</td>\n",
       "      <td>0.0</td>\n",
       "      <td>0.0</td>\n",
       "      <td>0.0</td>\n",
       "      <td>0.0</td>\n",
       "      <td>0.0</td>\n",
       "      <td>0.0</td>\n",
       "      <td>...</td>\n",
       "      <td>0.0</td>\n",
       "      <td>0.0</td>\n",
       "      <td>0.0</td>\n",
       "      <td>0.0</td>\n",
       "      <td>0.0</td>\n",
       "      <td>0.0</td>\n",
       "      <td>0.0</td>\n",
       "      <td>0.0</td>\n",
       "      <td>0.0</td>\n",
       "      <td>0.0</td>\n",
       "    </tr>\n",
       "    <tr>\n",
       "      <th>1</th>\n",
       "      <td>0.0</td>\n",
       "      <td>0.0</td>\n",
       "      <td>0.0</td>\n",
       "      <td>0.0</td>\n",
       "      <td>0.0</td>\n",
       "      <td>0.0</td>\n",
       "      <td>0.0</td>\n",
       "      <td>0.0</td>\n",
       "      <td>0.0</td>\n",
       "      <td>0.0</td>\n",
       "      <td>...</td>\n",
       "      <td>0.0</td>\n",
       "      <td>0.0</td>\n",
       "      <td>0.0</td>\n",
       "      <td>0.0</td>\n",
       "      <td>0.0</td>\n",
       "      <td>0.0</td>\n",
       "      <td>0.0</td>\n",
       "      <td>0.0</td>\n",
       "      <td>0.0</td>\n",
       "      <td>0.0</td>\n",
       "    </tr>\n",
       "    <tr>\n",
       "      <th>2</th>\n",
       "      <td>0.0</td>\n",
       "      <td>0.0</td>\n",
       "      <td>0.0</td>\n",
       "      <td>1.0</td>\n",
       "      <td>0.0</td>\n",
       "      <td>0.0</td>\n",
       "      <td>0.0</td>\n",
       "      <td>0.0</td>\n",
       "      <td>0.0</td>\n",
       "      <td>0.0</td>\n",
       "      <td>...</td>\n",
       "      <td>0.0</td>\n",
       "      <td>0.0</td>\n",
       "      <td>0.0</td>\n",
       "      <td>0.0</td>\n",
       "      <td>0.0</td>\n",
       "      <td>0.0</td>\n",
       "      <td>0.0</td>\n",
       "      <td>0.0</td>\n",
       "      <td>0.0</td>\n",
       "      <td>0.0</td>\n",
       "    </tr>\n",
       "    <tr>\n",
       "      <th>3</th>\n",
       "      <td>0.0</td>\n",
       "      <td>0.0</td>\n",
       "      <td>0.0</td>\n",
       "      <td>0.0</td>\n",
       "      <td>0.0</td>\n",
       "      <td>0.0</td>\n",
       "      <td>0.0</td>\n",
       "      <td>0.0</td>\n",
       "      <td>0.0</td>\n",
       "      <td>0.0</td>\n",
       "      <td>...</td>\n",
       "      <td>0.0</td>\n",
       "      <td>0.0</td>\n",
       "      <td>0.0</td>\n",
       "      <td>0.0</td>\n",
       "      <td>0.0</td>\n",
       "      <td>0.0</td>\n",
       "      <td>0.0</td>\n",
       "      <td>0.0</td>\n",
       "      <td>0.0</td>\n",
       "      <td>0.0</td>\n",
       "    </tr>\n",
       "    <tr>\n",
       "      <th>4</th>\n",
       "      <td>0.0</td>\n",
       "      <td>0.0</td>\n",
       "      <td>0.0</td>\n",
       "      <td>0.0</td>\n",
       "      <td>0.0</td>\n",
       "      <td>0.0</td>\n",
       "      <td>0.0</td>\n",
       "      <td>0.0</td>\n",
       "      <td>0.0</td>\n",
       "      <td>0.0</td>\n",
       "      <td>...</td>\n",
       "      <td>0.0</td>\n",
       "      <td>0.0</td>\n",
       "      <td>0.0</td>\n",
       "      <td>0.0</td>\n",
       "      <td>0.0</td>\n",
       "      <td>0.0</td>\n",
       "      <td>0.0</td>\n",
       "      <td>0.0</td>\n",
       "      <td>0.0</td>\n",
       "      <td>0.0</td>\n",
       "    </tr>\n",
       "  </tbody>\n",
       "</table>\n",
       "<p>5 rows × 3692 columns</p>\n",
       "</div>"
      ],
      "text/plain": [
       "content_id  0.0     1.0     3.0     6.0     7.0     8.0     9.0     10.0    \\\n",
       "account_id                                                                   \n",
       "0              0.0     0.0     0.0     0.0     0.0     0.0     0.0     0.0   \n",
       "1              0.0     0.0     0.0     0.0     0.0     0.0     0.0     0.0   \n",
       "2              0.0     0.0     0.0     1.0     0.0     0.0     0.0     0.0   \n",
       "3              0.0     0.0     0.0     0.0     0.0     0.0     0.0     0.0   \n",
       "4              0.0     0.0     0.0     0.0     0.0     0.0     0.0     0.0   \n",
       "\n",
       "content_id  11.0    12.0    ...  4357.0  4358.0  4359.0  4360.0  4361.0  \\\n",
       "account_id                  ...                                           \n",
       "0              0.0     0.0  ...     0.0     0.0     0.0     0.0     0.0   \n",
       "1              0.0     0.0  ...     0.0     0.0     0.0     0.0     0.0   \n",
       "2              0.0     0.0  ...     0.0     0.0     0.0     0.0     0.0   \n",
       "3              0.0     0.0  ...     0.0     0.0     0.0     0.0     0.0   \n",
       "4              0.0     0.0  ...     0.0     0.0     0.0     0.0     0.0   \n",
       "\n",
       "content_id  4362.0  4363.0  4364.0  4365.0  4366.0  \n",
       "account_id                                          \n",
       "0              0.0     0.0     0.0     0.0     0.0  \n",
       "1              0.0     0.0     0.0     0.0     0.0  \n",
       "2              0.0     0.0     0.0     0.0     0.0  \n",
       "3              0.0     0.0     0.0     0.0     0.0  \n",
       "4              0.0     0.0     0.0     0.0     0.0  \n",
       "\n",
       "[5 rows x 3692 columns]"
      ]
     },
     "execution_count": 34,
     "metadata": {},
     "output_type": "execute_result"
    }
   ],
   "source": [
    "interactions_matrix.head()"
   ]
  },
  {
   "cell_type": "markdown",
   "id": "a74509e6",
   "metadata": {},
   "source": [
    "Armo diccionario de accounts que voy a usar más adelante al momento de armar las predicciones"
   ]
  },
  {
   "cell_type": "code",
   "execution_count": 35,
   "id": "8b88f6c9",
   "metadata": {},
   "outputs": [],
   "source": [
    "acc_ids = list(interactions_matrix.index)\n",
    "account_dict = {}\n",
    "counter = 0 \n",
    "for i in acc_ids:\n",
    "    account_dict[i] = counter\n",
    "    counter += 1"
   ]
  },
  {
   "cell_type": "markdown",
   "id": "318fed88",
   "metadata": {},
   "source": [
    "Convierto a csr matrix"
   ]
  },
  {
   "cell_type": "code",
   "execution_count": 36,
   "id": "4f7f85a9",
   "metadata": {},
   "outputs": [],
   "source": [
    "account_content_interactions = csr_matrix(interactions_matrix.values)"
   ]
  },
  {
   "cell_type": "markdown",
   "id": "d69834e3",
   "metadata": {},
   "source": [
    "# Modelo"
   ]
  },
  {
   "cell_type": "code",
   "execution_count": 37,
   "id": "8f0feecb",
   "metadata": {},
   "outputs": [],
   "source": [
    "model = LightFM(loss='warp',\n",
    "                random_state=100,\n",
    "                learning_rate=0.03,\n",
    "                no_components=16)"
   ]
  },
  {
   "cell_type": "markdown",
   "id": "d5c79842",
   "metadata": {},
   "source": [
    "Fit "
   ]
  },
  {
   "cell_type": "code",
   "execution_count": 38,
   "id": "16cb62fd",
   "metadata": {},
   "outputs": [
    {
     "name": "stdout",
     "output_type": "stream",
     "text": [
      "CPU times: user 11.2 s, sys: 2.47 ms, total: 11.2 s\n",
      "Wall time: 11.3 s\n"
     ]
    }
   ],
   "source": [
    "%%time\n",
    "model = model.fit(account_content_interactions, epochs=10)"
   ]
  },
  {
   "cell_type": "markdown",
   "id": "9cf51f97",
   "metadata": {},
   "source": [
    "# Popularidad para recomendaciones cold start\n",
    "\n",
    "Para usuarios que no vieron nada les vamos a recomendar los contenidos ordenados por popularidad"
   ]
  },
  {
   "cell_type": "code",
   "execution_count": 39,
   "id": "4019ddd7",
   "metadata": {},
   "outputs": [
    {
     "data": {
      "text/html": [
       "<div>\n",
       "<style scoped>\n",
       "    .dataframe tbody tr th:only-of-type {\n",
       "        vertical-align: middle;\n",
       "    }\n",
       "\n",
       "    .dataframe tbody tr th {\n",
       "        vertical-align: top;\n",
       "    }\n",
       "\n",
       "    .dataframe thead th {\n",
       "        text-align: right;\n",
       "    }\n",
       "</style>\n",
       "<table border=\"1\" class=\"dataframe\">\n",
       "  <thead>\n",
       "    <tr style=\"text-align: right;\">\n",
       "      <th></th>\n",
       "      <th>content_id</th>\n",
       "      <th>accounts</th>\n",
       "    </tr>\n",
       "  </thead>\n",
       "  <tbody>\n",
       "    <tr>\n",
       "      <th>1733</th>\n",
       "      <td>2040.0</td>\n",
       "      <td>11481</td>\n",
       "    </tr>\n",
       "    <tr>\n",
       "      <th>3478</th>\n",
       "      <td>3806.0</td>\n",
       "      <td>8762</td>\n",
       "    </tr>\n",
       "    <tr>\n",
       "      <th>3572</th>\n",
       "      <td>3900.0</td>\n",
       "      <td>7960</td>\n",
       "    </tr>\n",
       "    <tr>\n",
       "      <th>3274</th>\n",
       "      <td>3598.0</td>\n",
       "      <td>3772</td>\n",
       "    </tr>\n",
       "    <tr>\n",
       "      <th>1851</th>\n",
       "      <td>2160.0</td>\n",
       "      <td>3506</td>\n",
       "    </tr>\n",
       "  </tbody>\n",
       "</table>\n",
       "</div>"
      ],
      "text/plain": [
       "      content_id  accounts\n",
       "1733      2040.0     11481\n",
       "3478      3806.0      8762\n",
       "3572      3900.0      7960\n",
       "3274      3598.0      3772\n",
       "1851      2160.0      3506"
      ]
     },
     "execution_count": 39,
     "metadata": {},
     "output_type": "execute_result"
    }
   ],
   "source": [
    "popularity_df = train_metadata[['account_id', 'content_id']].groupby('content_id', as_index=False).agg({'account_id': 'nunique'})\n",
    "popularity_df.columns = ['content_id', 'accounts']\n",
    "popularity_df = popularity_df.sort_values(by='accounts', ascending=False)\n",
    "popularity_df.head()"
   ]
  },
  {
   "cell_type": "markdown",
   "id": "67857d3f",
   "metadata": {},
   "source": [
    "# Generación de recomendaciones"
   ]
  },
  {
   "cell_type": "code",
   "execution_count": 40,
   "id": "18ab2e6f",
   "metadata": {},
   "outputs": [
    {
     "name": "stdout",
     "output_type": "stream",
     "text": [
      "CPU times: user 33.4 s, sys: 18.9 ms, total: 33.4 s\n",
      "Wall time: 33.4 s\n"
     ]
    }
   ],
   "source": [
    "%%time\n",
    "account_watched_contents = {}\n",
    "\n",
    "watched_contents = interactions.groupby('account_id').agg({'content_id': 'unique'})\n",
    "\n",
    "for account in watched_contents.index:\n",
    "    watched = watched_contents.loc[account, 'content_id']\n",
    "    account_watched_contents[account] = watched"
   ]
  },
  {
   "cell_type": "code",
   "execution_count": 41,
   "id": "935b8d9e",
   "metadata": {},
   "outputs": [
    {
     "name": "stderr",
     "output_type": "stream",
     "text": [
      "100%|██████████| 99649/99649 [47:06<00:00, 35.25it/s]  "
     ]
    },
    {
     "name": "stdout",
     "output_type": "stream",
     "text": [
      "CPU times: user 42min 7s, sys: 5min 12s, total: 47min 20s\n",
      "Wall time: 47min 6s\n"
     ]
    },
    {
     "name": "stderr",
     "output_type": "stream",
     "text": [
      "\n"
     ]
    }
   ],
   "source": [
    "%%time\n",
    "recomms = {\n",
    "    'account_id': [],\n",
    "    'recomms': []\n",
    "}\n",
    "\n",
    "n_users, n_items = interactions_matrix.shape\n",
    "item_ids = np.arange(n_items)\n",
    "\n",
    "for account in tqdm(train_metadata.account_id.unique()):\n",
    "    if account in list(interactions_matrix.index):\n",
    "        acc_x = account_dict[account]\n",
    "\n",
    "        preds = model.predict(user_ids=acc_x, item_ids = item_ids)\n",
    "\n",
    "        scores = pd.Series(preds)\n",
    "        scores.index = interactions_matrix.columns\n",
    "        scores = list(pd.Series(scores.sort_values(ascending=False).index))[:200] # Tomo las primeras 200 para que sea más rapido\n",
    "\n",
    "        watched_contents = account_watched_contents[account]\n",
    "        scores = [x for x in scores if x not in watched_contents]\n",
    "        scores = [x for x in scores if x not in end_before_april]\n",
    "        scores = scores[:20]\n",
    "\n",
    "        recomms['account_id'].append(account)\n",
    "        recomms['recomms'].append(scores)\n",
    "    else:\n",
    "        recomms['account_id'].append(account)\n",
    "        recomms['recomms'].append(popularity_df.sort_values(by='accounts', ascending=False).content_id.unique()[:20])"
   ]
  },
  {
   "cell_type": "code",
   "execution_count": 42,
   "id": "9fb4e776",
   "metadata": {},
   "outputs": [],
   "source": [
    "recomms = pd.DataFrame(recomms)\n",
    "recomms = recomms.sort_values(by='account_id', ascending=True)"
   ]
  },
  {
   "cell_type": "code",
   "execution_count": 43,
   "id": "549c6622",
   "metadata": {},
   "outputs": [
    {
     "data": {
      "text/html": [
       "<div>\n",
       "<style scoped>\n",
       "    .dataframe tbody tr th:only-of-type {\n",
       "        vertical-align: middle;\n",
       "    }\n",
       "\n",
       "    .dataframe tbody tr th {\n",
       "        vertical-align: top;\n",
       "    }\n",
       "\n",
       "    .dataframe thead th {\n",
       "        text-align: right;\n",
       "    }\n",
       "</style>\n",
       "<table border=\"1\" class=\"dataframe\">\n",
       "  <thead>\n",
       "    <tr style=\"text-align: right;\">\n",
       "      <th></th>\n",
       "      <th>account_id</th>\n",
       "      <th>recomms</th>\n",
       "    </tr>\n",
       "  </thead>\n",
       "  <tbody>\n",
       "    <tr>\n",
       "      <th>83742</th>\n",
       "      <td>0</td>\n",
       "      <td>[3806.0, 3900.0, 2160.0, 1316.0, 3775.0, 558.0...</td>\n",
       "    </tr>\n",
       "    <tr>\n",
       "      <th>83755</th>\n",
       "      <td>1</td>\n",
       "      <td>[2040.0, 3900.0, 3806.0, 116.0, 2012.0, 1971.0...</td>\n",
       "    </tr>\n",
       "    <tr>\n",
       "      <th>83857</th>\n",
       "      <td>2</td>\n",
       "      <td>[135.0, 718.0, 3364.0, 2040.0, 1800.0, 2160.0,...</td>\n",
       "    </tr>\n",
       "    <tr>\n",
       "      <th>83898</th>\n",
       "      <td>3</td>\n",
       "      <td>[3711.0, 1008.0, 2815.0, 3210.0, 3382.0, 3806....</td>\n",
       "    </tr>\n",
       "    <tr>\n",
       "      <th>84010</th>\n",
       "      <td>4</td>\n",
       "      <td>[3900.0, 173.0, 3806.0, 3210.0, 3381.0, 3384.0...</td>\n",
       "    </tr>\n",
       "  </tbody>\n",
       "</table>\n",
       "</div>"
      ],
      "text/plain": [
       "       account_id                                            recomms\n",
       "83742           0  [3806.0, 3900.0, 2160.0, 1316.0, 3775.0, 558.0...\n",
       "83755           1  [2040.0, 3900.0, 3806.0, 116.0, 2012.0, 1971.0...\n",
       "83857           2  [135.0, 718.0, 3364.0, 2040.0, 1800.0, 2160.0,...\n",
       "83898           3  [3711.0, 1008.0, 2815.0, 3210.0, 3382.0, 3806....\n",
       "84010           4  [3900.0, 173.0, 3806.0, 3210.0, 3381.0, 3384.0..."
      ]
     },
     "execution_count": 43,
     "metadata": {},
     "output_type": "execute_result"
    }
   ],
   "source": [
    "recomms.head()"
   ]
  },
  {
   "cell_type": "code",
   "execution_count": 44,
   "id": "55be130a",
   "metadata": {},
   "outputs": [],
   "source": [
    "recomms['n_recomms'] = recomms.recomms.apply(len)\n",
    "\n",
    "less_than_20 = recomms[recomms.n_recomms != 20].shape[0]\n",
    "\n",
    "if less_than_20 > 0:\n",
    "    print(\"FALTAN RECOMMS\")"
   ]
  },
  {
   "cell_type": "code",
   "execution_count": 45,
   "id": "7933edec",
   "metadata": {},
   "outputs": [],
   "source": [
    "actual_views = test[['account_id', 'content_id']]\\\n",
    "                .drop_duplicates()\\\n",
    "                .groupby(by='account_id', as_index=False)\\\n",
    "                .agg({'content_id': 'unique'})\\\n",
    "                .sort_values(by='account_id')"
   ]
  },
  {
   "cell_type": "markdown",
   "id": "a870f7a4",
   "metadata": {},
   "source": [
    "# Evaluacion"
   ]
  },
  {
   "cell_type": "code",
   "execution_count": 46,
   "id": "c8be3519",
   "metadata": {},
   "outputs": [],
   "source": [
    "preds = recomms.recomms.values\n",
    "labels = actual_views.content_id.values"
   ]
  },
  {
   "cell_type": "code",
   "execution_count": 47,
   "id": "603e5e21",
   "metadata": {},
   "outputs": [],
   "source": [
    "aps = [] # lista vacía para ir almacenando la AP de cada recomendación\n",
    "for pred, label in zip(preds, labels):\n",
    "    n = len(pred) \n",
    "    arange = np.arange(n, dtype=np.int32) + 1. # indexamos en base 1\n",
    "    rel_k = np.in1d(pred[:n], label)\n",
    "    tp = np.ones(rel_k.sum(), dtype=np.int32).cumsum() # lista con el contador de verdaderos positivos\n",
    "    denom = arange[rel_k] # posiciones donde se encuentran los ítems relantes\n",
    "    ap = (tp / denom).sum() / len(label) # average precision\n",
    "    aps.append(ap)"
   ]
  },
  {
   "cell_type": "code",
   "execution_count": 48,
   "id": "48e53143",
   "metadata": {},
   "outputs": [
    {
     "data": {
      "text/plain": [
       "0.030321301741158265"
      ]
     },
     "execution_count": 48,
     "metadata": {},
     "output_type": "execute_result"
    }
   ],
   "source": [
    "np.mean(aps)"
   ]
  },
  {
   "cell_type": "markdown",
   "id": "a2af92e0",
   "metadata": {},
   "source": [
    "----------------------------------\n",
    "model = LightFM(loss='warp',\n",
    "                random_state=100,\n",
    "                learning_rate=0.03,\n",
    "                no_components=64)\n",
    "                \n",
    "MAP: 0.021121823981033343  \n",
    "\n",
    "----------------------------------                "
   ]
  },
  {
   "cell_type": "markdown",
   "id": "66daf295",
   "metadata": {},
   "source": [
    "----------------------------------\n",
    "\n",
    "model = LightFM(loss='warp',\n",
    "                random_state=100,\n",
    "                learning_rate=0.03,\n",
    "                no_components=96)\n",
    "MAP: 0.018823548327592\n",
    "\n",
    "----------------------------------"
   ]
  },
  {
   "cell_type": "markdown",
   "id": "d37024e5",
   "metadata": {},
   "source": [
    "----------------------------------\n",
    "\n",
    "model = LightFM(loss='warp',\n",
    "                random_state=100,\n",
    "                learning_rate=0.03,\n",
    "                no_components=32)\n",
    "\n",
    "MAP: 0.027996600485548712\n",
    "\n",
    "----------------------------------"
   ]
  },
  {
   "cell_type": "markdown",
   "id": "4b7966c3",
   "metadata": {},
   "source": [
    "----------------------------------\n",
    "\n",
    "model = LightFM(loss='warp',\n",
    "                random_state=100,\n",
    "                learning_rate=0.03,\n",
    "                no_components=16)\n",
    "\n",
    "MAP: 0.030321301741158265 -----> MEJOR\n",
    "\n",
    "----------------------------------"
   ]
  }
 ],
 "metadata": {
  "kernelspec": {
   "display_name": "Python 3",
   "language": "python",
   "name": "python3"
  },
  "language_info": {
   "codemirror_mode": {
    "name": "ipython",
    "version": 3
   },
   "file_extension": ".py",
   "mimetype": "text/x-python",
   "name": "python",
   "nbconvert_exporter": "python",
   "pygments_lexer": "ipython3",
   "version": "3.6.11"
  }
 },
 "nbformat": 4,
 "nbformat_minor": 5
}
